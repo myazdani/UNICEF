{
 "cells": [
  {
   "cell_type": "code",
   "execution_count": 1,
   "metadata": {
    "collapsed": true
   },
   "outputs": [],
   "source": [
    "import numpy as np\n",
    "import pandas as pd"
   ]
  },
  {
   "cell_type": "code",
   "execution_count": 2,
   "metadata": {
    "collapsed": true
   },
   "outputs": [],
   "source": [
    "df_test = pd.read_csv(\"../results/50_cluster_distributions_rural_test.csv\")\n",
    "df_test[\"image_name\"] = df_test.image_paths.apply(lambda x: x.split(\"/\")[-1])\n",
    "\n",
    "df_train = pd.read_csv(\"../results/50_cluster_distributions_rural_train.csv\")\n",
    "df_train[\"image_name\"] = df_train.image_paths.apply(lambda x: x.split(\"/\")[-1])\n"
   ]
  },
  {
   "cell_type": "code",
   "execution_count": 3,
   "metadata": {
    "collapsed": false
   },
   "outputs": [],
   "source": [
    "df_truth = pd.read_csv(\"/jupyter-nfs/data/Liberia/ground_truth/schools_SE_200.csv\")\n",
    "df_truth[\"image_name\"] = df_truth.image.apply(lambda x: x.split(\"/\")[-1])"
   ]
  },
  {
   "cell_type": "code",
   "execution_count": 4,
   "metadata": {
    "collapsed": true
   },
   "outputs": [],
   "source": [
    "df_merged_train = df_train.merge(df_truth)\n",
    "df_merged_test = df_test.merge(df_truth)"
   ]
  },
  {
   "cell_type": "code",
   "execution_count": 5,
   "metadata": {
    "collapsed": false
   },
   "outputs": [
    {
     "data": {
      "text/html": [
       "<div>\n",
       "<table border=\"1\" class=\"dataframe\">\n",
       "  <thead>\n",
       "    <tr style=\"text-align: right;\">\n",
       "      <th></th>\n",
       "      <th>image_paths</th>\n",
       "      <th>cluster</th>\n",
       "      <th>dist</th>\n",
       "      <th>image_name</th>\n",
       "      <th>image</th>\n",
       "      <th>num_schools</th>\n",
       "    </tr>\n",
       "  </thead>\n",
       "  <tbody>\n",
       "    <tr>\n",
       "      <th>0</th>\n",
       "      <td>/jupyter-nfs/data/Liberia/rural/southeast_tile...</td>\n",
       "      <td>24</td>\n",
       "      <td>98</td>\n",
       "      <td>Sanniquellie_SE__0_2400.tif</td>\n",
       "      <td>/media/sf_Big_Pixel/unicef/Liberia/Rural/south...</td>\n",
       "      <td>0</td>\n",
       "    </tr>\n",
       "    <tr>\n",
       "      <th>1</th>\n",
       "      <td>/jupyter-nfs/data/Liberia/rural/southeast_tile...</td>\n",
       "      <td>17</td>\n",
       "      <td>95</td>\n",
       "      <td>Sanniquellie_SE__41000_61600.tif</td>\n",
       "      <td>/media/sf_Big_Pixel/unicef/Liberia/Rural/south...</td>\n",
       "      <td>0</td>\n",
       "    </tr>\n",
       "    <tr>\n",
       "      <th>2</th>\n",
       "      <td>/jupyter-nfs/data/Liberia/rural/southeast_tile...</td>\n",
       "      <td>8</td>\n",
       "      <td>73</td>\n",
       "      <td>Sanniquellie_SE__21600_5600.tif</td>\n",
       "      <td>/media/sf_Big_Pixel/unicef/Liberia/Rural/south...</td>\n",
       "      <td>0</td>\n",
       "    </tr>\n",
       "    <tr>\n",
       "      <th>3</th>\n",
       "      <td>/jupyter-nfs/data/Liberia/rural/southeast_tile...</td>\n",
       "      <td>11</td>\n",
       "      <td>95</td>\n",
       "      <td>Sanniquellie_SE__43400_21800.tif</td>\n",
       "      <td>/media/sf_Big_Pixel/unicef/Liberia/Rural/south...</td>\n",
       "      <td>0</td>\n",
       "    </tr>\n",
       "    <tr>\n",
       "      <th>4</th>\n",
       "      <td>/jupyter-nfs/data/Liberia/rural/southeast_tile...</td>\n",
       "      <td>9</td>\n",
       "      <td>88</td>\n",
       "      <td>Sanniquellie_SE__41800_55400.tif</td>\n",
       "      <td>/media/sf_Big_Pixel/unicef/Liberia/Rural/south...</td>\n",
       "      <td>0</td>\n",
       "    </tr>\n",
       "  </tbody>\n",
       "</table>\n",
       "</div>"
      ],
      "text/plain": [
       "                                         image_paths  cluster  dist  \\\n",
       "0  /jupyter-nfs/data/Liberia/rural/southeast_tile...       24    98   \n",
       "1  /jupyter-nfs/data/Liberia/rural/southeast_tile...       17    95   \n",
       "2  /jupyter-nfs/data/Liberia/rural/southeast_tile...        8    73   \n",
       "3  /jupyter-nfs/data/Liberia/rural/southeast_tile...       11    95   \n",
       "4  /jupyter-nfs/data/Liberia/rural/southeast_tile...        9    88   \n",
       "\n",
       "                         image_name  \\\n",
       "0       Sanniquellie_SE__0_2400.tif   \n",
       "1  Sanniquellie_SE__41000_61600.tif   \n",
       "2   Sanniquellie_SE__21600_5600.tif   \n",
       "3  Sanniquellie_SE__43400_21800.tif   \n",
       "4  Sanniquellie_SE__41800_55400.tif   \n",
       "\n",
       "                                               image  num_schools  \n",
       "0  /media/sf_Big_Pixel/unicef/Liberia/Rural/south...            0  \n",
       "1  /media/sf_Big_Pixel/unicef/Liberia/Rural/south...            0  \n",
       "2  /media/sf_Big_Pixel/unicef/Liberia/Rural/south...            0  \n",
       "3  /media/sf_Big_Pixel/unicef/Liberia/Rural/south...            0  \n",
       "4  /media/sf_Big_Pixel/unicef/Liberia/Rural/south...            0  "
      ]
     },
     "execution_count": 5,
     "metadata": {},
     "output_type": "execute_result"
    }
   ],
   "source": [
    "df_merged_train.head()"
   ]
  },
  {
   "cell_type": "code",
   "execution_count": 6,
   "metadata": {
    "collapsed": false,
    "scrolled": true
   },
   "outputs": [],
   "source": [
    "res_train = df_merged_train.groupby(\"cluster\")[[\"num_schools\"]].agg([\"sum\", \"count\"]).reset_index()\n",
    "res_test = df_merged_test.groupby(\"cluster\")[[\"num_schools\"]].agg([\"sum\", \"count\"]).reset_index()"
   ]
  },
  {
   "cell_type": "code",
   "execution_count": 7,
   "metadata": {
    "collapsed": false
   },
   "outputs": [],
   "source": [
    "best_school_cluster_indx = res_train[\"num_schools\"][\"sum\"].argmax()"
   ]
  },
  {
   "cell_type": "code",
   "execution_count": 8,
   "metadata": {
    "collapsed": false
   },
   "outputs": [
    {
     "data": {
      "text/plain": [
       "47"
      ]
     },
     "execution_count": 8,
     "metadata": {},
     "output_type": "execute_result"
    }
   ],
   "source": [
    "res_train[\"cluster\"][best_school_cluster_indx]"
   ]
  },
  {
   "cell_type": "code",
   "execution_count": 9,
   "metadata": {
    "collapsed": false
   },
   "outputs": [
    {
     "name": "stdout",
     "output_type": "stream",
     "text": [
      "Precision on test set 5.19480519481 %\n",
      "Recall on test set 60.0 %\n",
      "F1 score: 0.0956175298805\n"
     ]
    }
   ],
   "source": [
    "predicted_positives = res_test[\"num_schools\"][\"count\"][best_school_cluster_indx]\n",
    "true_positives = res_test[\"num_schools\"][\"sum\"][best_school_cluster_indx]\n",
    "false_positives = predicted_positives - true_positives\n",
    "positives = sum(res_test[\"num_schools\"][\"sum\"])\n",
    "precision = true_positives/(true_positives+false_positives)\n",
    "recall = true_positives/positives\n",
    "print(\"Precision on test set\", 100*precision, \"%\")\n",
    "print(\"Recall on test set\", 100*recall, \"%\")\n",
    "print(\"F1 score:\", 2*(precision*recall/(precision+recall)))"
   ]
  },
  {
   "cell_type": "code",
   "execution_count": 10,
   "metadata": {
    "collapsed": false
   },
   "outputs": [
    {
     "data": {
      "text/plain": [
       "0.75185522718396047"
      ]
     },
     "execution_count": 10,
     "metadata": {},
     "output_type": "execute_result"
    }
   ],
   "source": [
    "100*predicted_positives/df_test.shape[0]"
   ]
  },
  {
   "cell_type": "code",
   "execution_count": 11,
   "metadata": {
    "collapsed": false
   },
   "outputs": [],
   "source": [
    "top_clusters = list((-res_train[\"num_schools\"][\"sum\"]).argsort())[:2]"
   ]
  },
  {
   "cell_type": "code",
   "execution_count": 12,
   "metadata": {
    "collapsed": false
   },
   "outputs": [
    {
     "data": {
      "text/plain": [
       "[47, 48]"
      ]
     },
     "execution_count": 12,
     "metadata": {},
     "output_type": "execute_result"
    }
   ],
   "source": [
    "top_clusters"
   ]
  },
  {
   "cell_type": "code",
   "execution_count": 13,
   "metadata": {
    "collapsed": false
   },
   "outputs": [],
   "source": [
    "predicted_positives  = res_test[\"num_schools\"][\"count\"][47] + res_test[\"num_schools\"][\"count\"][48]\n",
    "true_positives = res_test[\"num_schools\"][\"sum\"][47] + res_test[\"num_schools\"][\"sum\"][48]"
   ]
  },
  {
   "cell_type": "code",
   "execution_count": 14,
   "metadata": {
    "collapsed": false
   },
   "outputs": [
    {
     "name": "stdout",
     "output_type": "stream",
     "text": [
      "Precision on test set 4.48807854137 %\n",
      "Recall on test set 80.0 %\n",
      "F1 score: 0.0849933598938\n"
     ]
    }
   ],
   "source": [
    "false_positives = predicted_positives - true_positives\n",
    "positives = sum(res_test[\"num_schools\"][\"sum\"])\n",
    "precision = true_positives/(true_positives+false_positives)\n",
    "recall = true_positives/positives\n",
    "print(\"Precision on test set\", 100*precision, \"%\")\n",
    "print(\"Recall on test set\", 100*recall, \"%\")\n",
    "print(\"F1 score:\", 2*(precision*recall/(precision+recall)))"
   ]
  },
  {
   "cell_type": "code",
   "execution_count": 15,
   "metadata": {
    "collapsed": false
   },
   "outputs": [
    {
     "data": {
      "text/plain": [
       "681"
      ]
     },
     "execution_count": 15,
     "metadata": {},
     "output_type": "execute_result"
    }
   ],
   "source": [
    "false_positives"
   ]
  },
  {
   "cell_type": "code",
   "execution_count": 16,
   "metadata": {
    "collapsed": false
   },
   "outputs": [
    {
     "data": {
      "text/plain": [
       "40"
      ]
     },
     "execution_count": 16,
     "metadata": {},
     "output_type": "execute_result"
    }
   ],
   "source": [
    "positives"
   ]
  },
  {
   "cell_type": "code",
   "execution_count": 17,
   "metadata": {
    "collapsed": false
   },
   "outputs": [
    {
     "data": {
      "text/plain": [
       "713"
      ]
     },
     "execution_count": 17,
     "metadata": {},
     "output_type": "execute_result"
    }
   ],
   "source": [
    "predicted_positives"
   ]
  }
 ],
 "metadata": {
  "kernelspec": {
   "display_name": "Python 3",
   "language": "python",
   "name": "python3"
  },
  "language_info": {
   "codemirror_mode": {
    "name": "ipython",
    "version": 3
   },
   "file_extension": ".py",
   "mimetype": "text/x-python",
   "name": "python",
   "nbconvert_exporter": "python",
   "pygments_lexer": "ipython3",
   "version": "3.5.2"
  }
 },
 "nbformat": 4,
 "nbformat_minor": 2
}
