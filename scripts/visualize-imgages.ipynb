{
 "cells": [
  {
   "cell_type": "code",
   "execution_count": 1,
   "metadata": {
    "collapsed": false
   },
   "outputs": [],
   "source": [
    "from PyImagePlot import montage_manager\n",
    "import pandas as pd"
   ]
  },
  {
   "cell_type": "code",
   "execution_count": 2,
   "metadata": {
    "collapsed": true
   },
   "outputs": [],
   "source": [
    "train_path = \"/jupyter-nfs/data/Puerto_Rico/results/50_cluster_distributions_utuado_train.csv\"\n",
    "test_path = \"/jupyter-nfs/data/Puerto_Rico/results/50_cluster_distributions_utuado_test.csv\"\n",
    "\n",
    "combined_write_path = \"/jupyter-nfs/data/Puerto_Rico/results/50_cluster_distributions_utuado_train_test_combined.csv\"\n",
    "img_hist_write_path = \"/jupyter-nfs/data/Puerto_Rico/results/utuado/img-hist-utuado-50-clusters.png\"\n",
    "montage_dirs_path = \"/jupyter-nfs/data/Puerto_Rico/results/utuado/clusters-montages/\"\n",
    "images_clusterd_dir_root = \"/jupyter-nfs/data/Puerto_Rico/results/utuado/clustered-images/50-clusters/cluster_\""
   ]
  },
  {
   "cell_type": "code",
   "execution_count": 3,
   "metadata": {
    "collapsed": false
   },
   "outputs": [
    {
     "name": "stdout",
     "output_type": "stream",
     "text": [
      "Total number of images 18700\n"
     ]
    }
   ],
   "source": [
    "df_train = pd.read_csv(train_path)\n",
    "df_test = pd.read_csv(test_path)\n",
    "df = pd.concat([df_train, df_test])\n",
    "print \"Total number of images\", df.shape[0]"
   ]
  },
  {
   "cell_type": "code",
   "execution_count": 4,
   "metadata": {
    "collapsed": false
   },
   "outputs": [
    {
     "data": {
      "text/html": [
       "<div>\n",
       "<table border=\"1\" class=\"dataframe\">\n",
       "  <thead>\n",
       "    <tr style=\"text-align: right;\">\n",
       "      <th></th>\n",
       "      <th>image_paths</th>\n",
       "      <th>cluster</th>\n",
       "      <th>dist</th>\n",
       "    </tr>\n",
       "  </thead>\n",
       "  <tbody>\n",
       "    <tr>\n",
       "      <th>0</th>\n",
       "      <td>/jupyter-nfs/data/Puerto_Rico/image_tiles/utua...</td>\n",
       "      <td>13</td>\n",
       "      <td>98</td>\n",
       "    </tr>\n",
       "    <tr>\n",
       "      <th>1</th>\n",
       "      <td>/jupyter-nfs/data/Puerto_Rico/image_tiles/utua...</td>\n",
       "      <td>10</td>\n",
       "      <td>101</td>\n",
       "    </tr>\n",
       "    <tr>\n",
       "      <th>2</th>\n",
       "      <td>/jupyter-nfs/data/Puerto_Rico/image_tiles/utua...</td>\n",
       "      <td>3</td>\n",
       "      <td>77</td>\n",
       "    </tr>\n",
       "    <tr>\n",
       "      <th>3</th>\n",
       "      <td>/jupyter-nfs/data/Puerto_Rico/image_tiles/utua...</td>\n",
       "      <td>8</td>\n",
       "      <td>88</td>\n",
       "    </tr>\n",
       "    <tr>\n",
       "      <th>4</th>\n",
       "      <td>/jupyter-nfs/data/Puerto_Rico/image_tiles/utua...</td>\n",
       "      <td>7</td>\n",
       "      <td>104</td>\n",
       "    </tr>\n",
       "  </tbody>\n",
       "</table>\n",
       "</div>"
      ],
      "text/plain": [
       "                                         image_paths  cluster  dist\n",
       "0  /jupyter-nfs/data/Puerto_Rico/image_tiles/utua...       13    98\n",
       "1  /jupyter-nfs/data/Puerto_Rico/image_tiles/utua...       10   101\n",
       "2  /jupyter-nfs/data/Puerto_Rico/image_tiles/utua...        3    77\n",
       "3  /jupyter-nfs/data/Puerto_Rico/image_tiles/utua...        8    88\n",
       "4  /jupyter-nfs/data/Puerto_Rico/image_tiles/utua...        7   104"
      ]
     },
     "execution_count": 4,
     "metadata": {},
     "output_type": "execute_result"
    }
   ],
   "source": [
    "df.head()"
   ]
  },
  {
   "cell_type": "code",
   "execution_count": 5,
   "metadata": {
    "collapsed": false
   },
   "outputs": [
    {
     "data": {
      "text/html": [
       "<div>\n",
       "<table border=\"1\" class=\"dataframe\">\n",
       "  <thead>\n",
       "    <tr style=\"text-align: right;\">\n",
       "      <th></th>\n",
       "      <th>image_paths</th>\n",
       "      <th>cluster</th>\n",
       "      <th>dist</th>\n",
       "    </tr>\n",
       "  </thead>\n",
       "  <tbody>\n",
       "    <tr>\n",
       "      <th>0</th>\n",
       "      <td>/jupyter-nfs/data/Puerto_Rico/image_tiles/utua...</td>\n",
       "      <td>13</td>\n",
       "      <td>98</td>\n",
       "    </tr>\n",
       "    <tr>\n",
       "      <th>1</th>\n",
       "      <td>/jupyter-nfs/data/Puerto_Rico/image_tiles/utua...</td>\n",
       "      <td>10</td>\n",
       "      <td>101</td>\n",
       "    </tr>\n",
       "    <tr>\n",
       "      <th>2</th>\n",
       "      <td>/jupyter-nfs/data/Puerto_Rico/image_tiles/utua...</td>\n",
       "      <td>3</td>\n",
       "      <td>77</td>\n",
       "    </tr>\n",
       "    <tr>\n",
       "      <th>3</th>\n",
       "      <td>/jupyter-nfs/data/Puerto_Rico/image_tiles/utua...</td>\n",
       "      <td>8</td>\n",
       "      <td>88</td>\n",
       "    </tr>\n",
       "    <tr>\n",
       "      <th>4</th>\n",
       "      <td>/jupyter-nfs/data/Puerto_Rico/image_tiles/utua...</td>\n",
       "      <td>7</td>\n",
       "      <td>104</td>\n",
       "    </tr>\n",
       "  </tbody>\n",
       "</table>\n",
       "</div>"
      ],
      "text/plain": [
       "                                         image_paths  cluster  dist\n",
       "0  /jupyter-nfs/data/Puerto_Rico/image_tiles/utua...       13    98\n",
       "1  /jupyter-nfs/data/Puerto_Rico/image_tiles/utua...       10   101\n",
       "2  /jupyter-nfs/data/Puerto_Rico/image_tiles/utua...        3    77\n",
       "3  /jupyter-nfs/data/Puerto_Rico/image_tiles/utua...        8    88\n",
       "4  /jupyter-nfs/data/Puerto_Rico/image_tiles/utua...        7   104"
      ]
     },
     "execution_count": 5,
     "metadata": {},
     "output_type": "execute_result"
    }
   ],
   "source": [
    "df.to_csv(combined_write_path, index = False)\n",
    "\n",
    "df = pd.read_csv(combined_write_path)\n",
    "df.head()"
   ]
  },
  {
   "cell_type": "code",
   "execution_count": 6,
   "metadata": {
    "collapsed": true
   },
   "outputs": [],
   "source": [
    "M = montage_manager.Montages()"
   ]
  },
  {
   "cell_type": "code",
   "execution_count": 7,
   "metadata": {
    "collapsed": true
   },
   "outputs": [],
   "source": [
    "import os\n",
    "f = os.path.abspath(combined_write_path)\n"
   ]
  },
  {
   "cell_type": "code",
   "execution_count": 8,
   "metadata": {
    "collapsed": false
   },
   "outputs": [],
   "source": [
    "img_hist = M.create_image_hist(src_path=f)"
   ]
  },
  {
   "cell_type": "code",
   "execution_count": 9,
   "metadata": {
    "collapsed": false
   },
   "outputs": [],
   "source": [
    "img_hist.save(img_hist_write_path)"
   ]
  },
  {
   "cell_type": "code",
   "execution_count": 10,
   "metadata": {
    "collapsed": false
   },
   "outputs": [
    {
     "name": "stdout",
     "output_type": "stream",
     "text": [
      "number of images: 446\n",
      "number of images: 387\n",
      "number of images: 495\n",
      "number of images: 707\n",
      "number of images: 734\n",
      "number of images: 1135\n",
      "number of images: 851\n",
      "number of images: 600\n",
      "number of images: 524\n",
      "number of images: 682\n",
      "number of images: 1137\n",
      "number of images: 1061\n",
      "number of images: 108\n",
      "number of images: 776\n",
      "number of images: 468\n",
      "number of images: 898\n",
      "number of images: 701\n",
      "number of images: 382\n",
      "number of images: 351\n",
      "number of images: 105\n",
      "number of images: 82\n",
      "number of images: 187\n",
      "number of images: 247\n",
      "number of images: 579\n",
      "number of images: 475\n",
      "number of images: 5\n",
      "number of images: 86\n",
      "number of images: 324\n",
      "number of images: 93\n",
      "number of images: 50\n",
      "number of images: 105\n",
      "number of images: 500\n",
      "number of images: 469\n",
      "number of images: 70\n",
      "number of images: 330\n",
      "number of images: 58\n",
      "number of images: 186\n",
      "number of images: 167\n",
      "number of images: 298\n",
      "number of images: 262\n",
      "number of images: 156\n",
      "number of images: 350\n",
      "number of images: 311\n",
      "number of images: 3\n",
      "number of images: 203\n",
      "number of images: 141\n",
      "number of images: 44\n",
      "number of images: 156\n",
      "number of images: 110\n",
      "number of images: 104\n"
     ]
    }
   ],
   "source": [
    "montages = M.binned_montage(df, img_paths_col=\"image_path\", bins_col=\"cluster\", vals_col=\"dist\")"
   ]
  },
  {
   "cell_type": "code",
   "execution_count": 11,
   "metadata": {
    "collapsed": false
   },
   "outputs": [],
   "source": [
    "for montage in montages:\n",
    "    montage[0].save(montage_dirs_path + \"cluster_\" + montage[1]+\".png\")"
   ]
  },
  {
   "cell_type": "code",
   "execution_count": 12,
   "metadata": {
    "collapsed": true
   },
   "outputs": [],
   "source": [
    "import shutil\n",
    "import os    "
   ]
  },
  {
   "cell_type": "code",
   "execution_count": 13,
   "metadata": {
    "collapsed": false
   },
   "outputs": [],
   "source": [
    "target_dir = images_clusterd_dir_root\n",
    "for i in range(df.shape[0]):\n",
    "    image_path = df.image_paths[i]\n",
    "    cluster = df.cluster.iloc[i]\n",
    "    write_path = target_dir + str(cluster) + '/'\n",
    "    \n",
    "    if not os.path.exists(write_path):\n",
    "        os.makedirs(write_path)\n",
    "\n",
    "    shutil.copy2(image_path, write_path)"
   ]
  },
  {
   "cell_type": "code",
   "execution_count": null,
   "metadata": {
    "collapsed": true
   },
   "outputs": [],
   "source": []
  }
 ],
 "metadata": {
  "kernelspec": {
   "display_name": "Python 2",
   "language": "python",
   "name": "python2"
  },
  "language_info": {
   "codemirror_mode": {
    "name": "ipython",
    "version": 2
   },
   "file_extension": ".py",
   "mimetype": "text/x-python",
   "name": "python",
   "nbconvert_exporter": "python",
   "pygments_lexer": "ipython2",
   "version": "2.7.5"
  }
 },
 "nbformat": 4,
 "nbformat_minor": 2
}
