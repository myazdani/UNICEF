{
 "cells": [
  {
   "cell_type": "code",
   "execution_count": 1,
   "metadata": {
    "collapsed": false
   },
   "outputs": [],
   "source": [
    "from PyImagePlot import montage_manager\n",
    "import pandas as pd"
   ]
  },
  {
   "cell_type": "code",
   "execution_count": 11,
   "metadata": {
    "collapsed": false
   },
   "outputs": [
    {
     "data": {
      "text/html": [
       "<div>\n",
       "<table border=\"1\" class=\"dataframe\">\n",
       "  <thead>\n",
       "    <tr style=\"text-align: right;\">\n",
       "      <th></th>\n",
       "      <th>image_paths</th>\n",
       "      <th>cluster</th>\n",
       "      <th>dist</th>\n",
       "    </tr>\n",
       "  </thead>\n",
       "  <tbody>\n",
       "    <tr>\n",
       "      <th>0</th>\n",
       "      <td>/jupyter-nfs/data/Liberia/rural/southeast_tile...</td>\n",
       "      <td>4</td>\n",
       "      <td>80</td>\n",
       "    </tr>\n",
       "    <tr>\n",
       "      <th>1</th>\n",
       "      <td>/jupyter-nfs/data/Liberia/rural/southeast_tile...</td>\n",
       "      <td>5</td>\n",
       "      <td>77</td>\n",
       "    </tr>\n",
       "    <tr>\n",
       "      <th>2</th>\n",
       "      <td>/jupyter-nfs/data/Liberia/rural/southeast_tile...</td>\n",
       "      <td>5</td>\n",
       "      <td>80</td>\n",
       "    </tr>\n",
       "    <tr>\n",
       "      <th>3</th>\n",
       "      <td>/jupyter-nfs/data/Liberia/rural/southeast_tile...</td>\n",
       "      <td>25</td>\n",
       "      <td>125</td>\n",
       "    </tr>\n",
       "    <tr>\n",
       "      <th>4</th>\n",
       "      <td>/jupyter-nfs/data/Liberia/rural/southeast_tile...</td>\n",
       "      <td>1</td>\n",
       "      <td>71</td>\n",
       "    </tr>\n",
       "  </tbody>\n",
       "</table>\n",
       "</div>"
      ],
      "text/plain": [
       "                                         image_paths  cluster  dist\n",
       "0  /jupyter-nfs/data/Liberia/rural/southeast_tile...        4    80\n",
       "1  /jupyter-nfs/data/Liberia/rural/southeast_tile...        5    77\n",
       "2  /jupyter-nfs/data/Liberia/rural/southeast_tile...        5    80\n",
       "3  /jupyter-nfs/data/Liberia/rural/southeast_tile...       25   125\n",
       "4  /jupyter-nfs/data/Liberia/rural/southeast_tile...        1    71"
      ]
     },
     "execution_count": 11,
     "metadata": {},
     "output_type": "execute_result"
    }
   ],
   "source": [
    "df_test = pd.read_csv(\"../results/50_cluster_distributions_rural_test.csv\")\n",
    "df_test.head()"
   ]
  },
  {
   "cell_type": "code",
   "execution_count": 3,
   "metadata": {
    "collapsed": false
   },
   "outputs": [],
   "source": [
    "df_train = pd.read_csv(\"../results/50_cluster_distributions_rural_train.csv\")"
   ]
  },
  {
   "cell_type": "code",
   "execution_count": 4,
   "metadata": {
    "collapsed": false
   },
   "outputs": [],
   "source": [
    "df = pd.concat([df_train, df_test])"
   ]
  },
  {
   "cell_type": "code",
   "execution_count": 6,
   "metadata": {
    "collapsed": false
   },
   "outputs": [],
   "source": [
    "df[\"image_filename\"] = df.image_paths.apply(lambda x: x.split(\"/\")[-1])"
   ]
  },
  {
   "cell_type": "code",
   "execution_count": 8,
   "metadata": {
    "collapsed": false
   },
   "outputs": [],
   "source": [
    "df[\"image_path\"] = \"/jupyter-nfs/data/Liberia/image_tiles/rural/SE200_200/\" + df.image_filename"
   ]
  },
  {
   "cell_type": "code",
   "execution_count": 16,
   "metadata": {
    "collapsed": false
   },
   "outputs": [],
   "source": [
    "df[[\"image_path\", \"cluster\", \"dist\"]].to_csv(\"/jupyter-nfs/data/Liberia/results/rural-SE200_200-50-clusters.csv\", index = False)"
   ]
  },
  {
   "cell_type": "code",
   "execution_count": 17,
   "metadata": {
    "collapsed": false
   },
   "outputs": [
    {
     "data": {
      "text/html": [
       "<div>\n",
       "<table border=\"1\" class=\"dataframe\">\n",
       "  <thead>\n",
       "    <tr style=\"text-align: right;\">\n",
       "      <th></th>\n",
       "      <th>image_path</th>\n",
       "      <th>cluster</th>\n",
       "      <th>dist</th>\n",
       "    </tr>\n",
       "  </thead>\n",
       "  <tbody>\n",
       "    <tr>\n",
       "      <th>0</th>\n",
       "      <td>/jupyter-nfs/data/Liberia/image_tiles/rural/SE...</td>\n",
       "      <td>24</td>\n",
       "      <td>98</td>\n",
       "    </tr>\n",
       "    <tr>\n",
       "      <th>1</th>\n",
       "      <td>/jupyter-nfs/data/Liberia/image_tiles/rural/SE...</td>\n",
       "      <td>17</td>\n",
       "      <td>95</td>\n",
       "    </tr>\n",
       "    <tr>\n",
       "      <th>2</th>\n",
       "      <td>/jupyter-nfs/data/Liberia/image_tiles/rural/SE...</td>\n",
       "      <td>8</td>\n",
       "      <td>73</td>\n",
       "    </tr>\n",
       "    <tr>\n",
       "      <th>3</th>\n",
       "      <td>/jupyter-nfs/data/Liberia/image_tiles/rural/SE...</td>\n",
       "      <td>11</td>\n",
       "      <td>95</td>\n",
       "    </tr>\n",
       "    <tr>\n",
       "      <th>4</th>\n",
       "      <td>/jupyter-nfs/data/Liberia/image_tiles/rural/SE...</td>\n",
       "      <td>9</td>\n",
       "      <td>88</td>\n",
       "    </tr>\n",
       "  </tbody>\n",
       "</table>\n",
       "</div>"
      ],
      "text/plain": [
       "                                          image_path  cluster  dist\n",
       "0  /jupyter-nfs/data/Liberia/image_tiles/rural/SE...       24    98\n",
       "1  /jupyter-nfs/data/Liberia/image_tiles/rural/SE...       17    95\n",
       "2  /jupyter-nfs/data/Liberia/image_tiles/rural/SE...        8    73\n",
       "3  /jupyter-nfs/data/Liberia/image_tiles/rural/SE...       11    95\n",
       "4  /jupyter-nfs/data/Liberia/image_tiles/rural/SE...        9    88"
      ]
     },
     "execution_count": 17,
     "metadata": {},
     "output_type": "execute_result"
    }
   ],
   "source": [
    "df = pd.read_csv(\"/jupyter-nfs/data/Liberia/results/rural-SE200_200-50-clusters.csv\")\n",
    "df.head()"
   ]
  },
  {
   "cell_type": "code",
   "execution_count": 18,
   "metadata": {
    "collapsed": true
   },
   "outputs": [],
   "source": [
    "M = montage_manager.Montages()\n",
    "\n"
   ]
  },
  {
   "cell_type": "code",
   "execution_count": 33,
   "metadata": {
    "collapsed": true
   },
   "outputs": [],
   "source": [
    "import os\n",
    "#f = os.path.abspath(\"/jupyter-nfs/data/Liberia/results/rural-SE200_200-50-clusters.csv\")\n",
    "f = os.path.abspath(\"/jupyter-nfs/data/Liberia/results/rural-SE200_200/rural-SE200_200-50-clusters_SAMPLE.csv\")"
   ]
  },
  {
   "cell_type": "code",
   "execution_count": 34,
   "metadata": {
    "collapsed": false
   },
   "outputs": [],
   "source": [
    "img_hist = M.create_image_hist(src_path=f)"
   ]
  },
  {
   "cell_type": "code",
   "execution_count": 35,
   "metadata": {
    "collapsed": true
   },
   "outputs": [],
   "source": [
    "img_hist.save(\"/jupyter-nfs/data/Liberia/results/rural-SE200_200/img-hist-rural-SE200_200-50-clusters_SAMPLE.png\")"
   ]
  },
  {
   "cell_type": "code",
   "execution_count": 23,
   "metadata": {
    "collapsed": false
   },
   "outputs": [
    {
     "name": "stdout",
     "output_type": "stream",
     "text": [
      "number of images: 1918\n",
      "number of images: 3440\n",
      "number of images: 2582\n",
      "number of images: 2800\n",
      "number of images: 2285\n",
      "number of images: 2338\n",
      "number of images: 2317\n",
      "number of images: 2750\n",
      "number of images: 2225\n",
      "number of images: 2588\n",
      "number of images: 1980\n",
      "number of images: 1950\n",
      "number of images: 2190\n",
      "number of images: 2365\n",
      "number of images: 1578\n",
      "number of images: 2330\n",
      "number of images: 1994\n",
      "number of images: 1404\n",
      "number of images: 1900\n",
      "number of images: 1292\n",
      "number of images: 856\n",
      "number of images: 2359\n",
      "number of images: 460\n",
      "number of images: 1333\n",
      "number of images: 1850\n",
      "number of images: 1340\n",
      "number of images: 1171\n",
      "number of images: 1508\n",
      "number of images: 1025\n",
      "number of images: 1619\n",
      "number of images: 1332\n",
      "number of images: 423\n",
      "number of images: 1044\n",
      "number of images: 1624\n",
      "number of images: 439\n",
      "number of images: 746\n",
      "number of images: 1281\n",
      "number of images: 597\n",
      "number of images: 1094\n",
      "number of images: 759\n",
      "number of images: 1027\n",
      "number of images: 487\n",
      "number of images: 660\n",
      "number of images: 666\n",
      "number of images: 106\n",
      "number of images: 123\n",
      "number of images: 315\n",
      "number of images: 533\n",
      "number of images: 300\n",
      "number of images: 144\n"
     ]
    }
   ],
   "source": [
    "montages = M.binned_montage(df, img_paths_col=\"image_path\", bins_col=\"cluster\", vals_col=\"dist\")"
   ]
  },
  {
   "cell_type": "code",
   "execution_count": 24,
   "metadata": {
    "collapsed": false
   },
   "outputs": [],
   "source": [
    "for montage in montages:\n",
    "    montage[0].save(\"/jupyter-nfs/data/Liberia/results/rural-SE200_200/clusters-montages/cluster_\" + montage[1]+\".png\")"
   ]
  },
  {
   "cell_type": "code",
   "execution_count": 27,
   "metadata": {
    "collapsed": false
   },
   "outputs": [
    {
     "data": {
      "text/html": [
       "<div>\n",
       "<table border=\"1\" class=\"dataframe\">\n",
       "  <thead>\n",
       "    <tr style=\"text-align: right;\">\n",
       "      <th></th>\n",
       "      <th>image_path</th>\n",
       "      <th>cluster</th>\n",
       "      <th>dist</th>\n",
       "    </tr>\n",
       "  </thead>\n",
       "  <tbody>\n",
       "    <tr>\n",
       "      <th>0</th>\n",
       "      <td>/jupyter-nfs/data/Liberia/image_tiles/rural/SE...</td>\n",
       "      <td>24</td>\n",
       "      <td>98</td>\n",
       "    </tr>\n",
       "    <tr>\n",
       "      <th>1</th>\n",
       "      <td>/jupyter-nfs/data/Liberia/image_tiles/rural/SE...</td>\n",
       "      <td>17</td>\n",
       "      <td>95</td>\n",
       "    </tr>\n",
       "    <tr>\n",
       "      <th>2</th>\n",
       "      <td>/jupyter-nfs/data/Liberia/image_tiles/rural/SE...</td>\n",
       "      <td>8</td>\n",
       "      <td>73</td>\n",
       "    </tr>\n",
       "    <tr>\n",
       "      <th>3</th>\n",
       "      <td>/jupyter-nfs/data/Liberia/image_tiles/rural/SE...</td>\n",
       "      <td>11</td>\n",
       "      <td>95</td>\n",
       "    </tr>\n",
       "    <tr>\n",
       "      <th>4</th>\n",
       "      <td>/jupyter-nfs/data/Liberia/image_tiles/rural/SE...</td>\n",
       "      <td>9</td>\n",
       "      <td>88</td>\n",
       "    </tr>\n",
       "  </tbody>\n",
       "</table>\n",
       "</div>"
      ],
      "text/plain": [
       "                                          image_path  cluster  dist\n",
       "0  /jupyter-nfs/data/Liberia/image_tiles/rural/SE...       24    98\n",
       "1  /jupyter-nfs/data/Liberia/image_tiles/rural/SE...       17    95\n",
       "2  /jupyter-nfs/data/Liberia/image_tiles/rural/SE...        8    73\n",
       "3  /jupyter-nfs/data/Liberia/image_tiles/rural/SE...       11    95\n",
       "4  /jupyter-nfs/data/Liberia/image_tiles/rural/SE...        9    88"
      ]
     },
     "execution_count": 27,
     "metadata": {},
     "output_type": "execute_result"
    }
   ],
   "source": [
    "df.head()"
   ]
  },
  {
   "cell_type": "code",
   "execution_count": 29,
   "metadata": {
    "collapsed": true
   },
   "outputs": [],
   "source": [
    "import shutil\n",
    "import os    "
   ]
  },
  {
   "cell_type": "code",
   "execution_count": 32,
   "metadata": {
    "collapsed": false
   },
   "outputs": [],
   "source": [
    "target_dir = \"/jupyter-nfs/data/Liberia/results/rural-SE200_200/clusters-images/50-clusters/cluster_\"\n",
    "for i in range(df.shape[0]):\n",
    "    image_path = df.image_path[i]\n",
    "    cluster = df.cluster.iloc[i]\n",
    "    write_path = target_dir + str(cluster) + '/'\n",
    "    \n",
    "    if not os.path.exists(write_path):\n",
    "        os.makedirs(write_path)\n",
    "\n",
    "    shutil.copy2(image_path, write_path)"
   ]
  },
  {
   "cell_type": "code",
   "execution_count": null,
   "metadata": {
    "collapsed": true
   },
   "outputs": [],
   "source": []
  }
 ],
 "metadata": {
  "kernelspec": {
   "display_name": "Python 2",
   "language": "python",
   "name": "python2"
  },
  "language_info": {
   "codemirror_mode": {
    "name": "ipython",
    "version": 2
   },
   "file_extension": ".py",
   "mimetype": "text/x-python",
   "name": "python",
   "nbconvert_exporter": "python",
   "pygments_lexer": "ipython2",
   "version": "2.7.5"
  }
 },
 "nbformat": 4,
 "nbformat_minor": 2
}
