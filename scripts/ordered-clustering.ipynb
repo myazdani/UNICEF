{
 "cells": [
  {
   "cell_type": "code",
   "execution_count": 1,
   "metadata": {
    "collapsed": false
   },
   "outputs": [
    {
     "name": "stderr",
     "output_type": "stream",
     "text": [
      "/usr/lib64/python2.7/site-packages/sklearn/cross_validation.py:44: DeprecationWarning: This module was deprecated in version 0.18 in favor of the model_selection module into which all the refactored classes and functions are moved. Also note that the interface of the new CV iterators are different from that of this module. This module will be removed in 0.20.\n",
      "  \"This module will be removed in 0.20.\", DeprecationWarning)\n"
     ]
    }
   ],
   "source": [
    "import matplotlib\n",
    "matplotlib.use('Agg')\n",
    "import matplotlib.pyplot as plt\n",
    "%matplotlib inline\n",
    "import shutil\n",
    "import os\n",
    "import pandas as pd\n",
    "from sklearn.cluster import KMeans\n",
    "from sklearn.decomposition import RandomizedPCA\n",
    "from sklearn.cross_validation import train_test_split\n",
    "import numpy as np\n",
    "#from PIL import Image\n",
    "#from PyImagePlot.montage_manager import *"
   ]
  },
  {
   "cell_type": "code",
   "execution_count": 2,
   "metadata": {
    "collapsed": false
   },
   "outputs": [
    {
     "name": "stdout",
     "output_type": "stream",
     "text": [
      "(71448, 2049)\n"
     ]
    }
   ],
   "source": [
    "df = pd.read_csv(\"../features/rural-ResNet50-pool.csv\")\n",
    "print df.shape"
   ]
  },
  {
   "cell_type": "code",
   "execution_count": 3,
   "metadata": {
    "collapsed": false
   },
   "outputs": [
    {
     "data": {
      "text/html": [
       "<div>\n",
       "<table border=\"1\" class=\"dataframe\">\n",
       "  <thead>\n",
       "    <tr style=\"text-align: right;\">\n",
       "      <th></th>\n",
       "      <th>image_paths</th>\n",
       "      <th>pool5.0</th>\n",
       "      <th>pool5.1</th>\n",
       "      <th>pool5.2</th>\n",
       "      <th>pool5.3</th>\n",
       "      <th>pool5.4</th>\n",
       "      <th>pool5.5</th>\n",
       "      <th>pool5.6</th>\n",
       "      <th>pool5.7</th>\n",
       "      <th>pool5.8</th>\n",
       "      <th>...</th>\n",
       "      <th>pool5.2038</th>\n",
       "      <th>pool5.2039</th>\n",
       "      <th>pool5.2040</th>\n",
       "      <th>pool5.2041</th>\n",
       "      <th>pool5.2042</th>\n",
       "      <th>pool5.2043</th>\n",
       "      <th>pool5.2044</th>\n",
       "      <th>pool5.2045</th>\n",
       "      <th>pool5.2046</th>\n",
       "      <th>pool5.2047</th>\n",
       "    </tr>\n",
       "  </thead>\n",
       "  <tbody>\n",
       "    <tr>\n",
       "      <th>0</th>\n",
       "      <td>/jupyter-nfs/data/Liberia/rural/southeast_tile...</td>\n",
       "      <td>0.137256</td>\n",
       "      <td>0.033329</td>\n",
       "      <td>0.243107</td>\n",
       "      <td>0.000000</td>\n",
       "      <td>0.000000</td>\n",
       "      <td>0.0</td>\n",
       "      <td>0.0</td>\n",
       "      <td>0.0</td>\n",
       "      <td>0.0</td>\n",
       "      <td>...</td>\n",
       "      <td>0.000000</td>\n",
       "      <td>0.0</td>\n",
       "      <td>0.0</td>\n",
       "      <td>0.000000</td>\n",
       "      <td>0.0</td>\n",
       "      <td>0.0</td>\n",
       "      <td>0.0</td>\n",
       "      <td>0.147094</td>\n",
       "      <td>0.000000</td>\n",
       "      <td>0.0</td>\n",
       "    </tr>\n",
       "    <tr>\n",
       "      <th>1</th>\n",
       "      <td>/jupyter-nfs/data/Liberia/rural/southeast_tile...</td>\n",
       "      <td>1.413542</td>\n",
       "      <td>0.016365</td>\n",
       "      <td>0.089910</td>\n",
       "      <td>0.000000</td>\n",
       "      <td>0.000000</td>\n",
       "      <td>0.0</td>\n",
       "      <td>0.0</td>\n",
       "      <td>0.0</td>\n",
       "      <td>0.0</td>\n",
       "      <td>...</td>\n",
       "      <td>0.284178</td>\n",
       "      <td>0.0</td>\n",
       "      <td>0.0</td>\n",
       "      <td>0.068741</td>\n",
       "      <td>0.0</td>\n",
       "      <td>0.0</td>\n",
       "      <td>0.0</td>\n",
       "      <td>0.000000</td>\n",
       "      <td>0.022701</td>\n",
       "      <td>0.0</td>\n",
       "    </tr>\n",
       "    <tr>\n",
       "      <th>2</th>\n",
       "      <td>/jupyter-nfs/data/Liberia/rural/southeast_tile...</td>\n",
       "      <td>0.106881</td>\n",
       "      <td>0.000000</td>\n",
       "      <td>0.070017</td>\n",
       "      <td>0.026601</td>\n",
       "      <td>0.009001</td>\n",
       "      <td>0.0</td>\n",
       "      <td>0.0</td>\n",
       "      <td>0.0</td>\n",
       "      <td>0.0</td>\n",
       "      <td>...</td>\n",
       "      <td>0.000000</td>\n",
       "      <td>0.0</td>\n",
       "      <td>0.0</td>\n",
       "      <td>0.001180</td>\n",
       "      <td>0.0</td>\n",
       "      <td>0.0</td>\n",
       "      <td>0.0</td>\n",
       "      <td>0.132630</td>\n",
       "      <td>0.000000</td>\n",
       "      <td>0.0</td>\n",
       "    </tr>\n",
       "    <tr>\n",
       "      <th>3</th>\n",
       "      <td>/jupyter-nfs/data/Liberia/rural/southeast_tile...</td>\n",
       "      <td>0.405045</td>\n",
       "      <td>0.009956</td>\n",
       "      <td>0.000000</td>\n",
       "      <td>0.000000</td>\n",
       "      <td>0.045935</td>\n",
       "      <td>0.0</td>\n",
       "      <td>0.0</td>\n",
       "      <td>0.0</td>\n",
       "      <td>0.0</td>\n",
       "      <td>...</td>\n",
       "      <td>0.000000</td>\n",
       "      <td>0.0</td>\n",
       "      <td>0.0</td>\n",
       "      <td>0.000000</td>\n",
       "      <td>0.0</td>\n",
       "      <td>0.0</td>\n",
       "      <td>0.0</td>\n",
       "      <td>0.015846</td>\n",
       "      <td>0.000000</td>\n",
       "      <td>0.0</td>\n",
       "    </tr>\n",
       "    <tr>\n",
       "      <th>4</th>\n",
       "      <td>/jupyter-nfs/data/Liberia/rural/southeast_tile...</td>\n",
       "      <td>0.279609</td>\n",
       "      <td>0.000000</td>\n",
       "      <td>0.409207</td>\n",
       "      <td>0.000000</td>\n",
       "      <td>0.021985</td>\n",
       "      <td>0.0</td>\n",
       "      <td>0.0</td>\n",
       "      <td>0.0</td>\n",
       "      <td>0.0</td>\n",
       "      <td>...</td>\n",
       "      <td>0.000000</td>\n",
       "      <td>0.0</td>\n",
       "      <td>0.0</td>\n",
       "      <td>0.000000</td>\n",
       "      <td>0.0</td>\n",
       "      <td>0.0</td>\n",
       "      <td>0.0</td>\n",
       "      <td>0.003470</td>\n",
       "      <td>0.000000</td>\n",
       "      <td>0.0</td>\n",
       "    </tr>\n",
       "  </tbody>\n",
       "</table>\n",
       "<p>5 rows × 2049 columns</p>\n",
       "</div>"
      ],
      "text/plain": [
       "                                         image_paths   pool5.0   pool5.1  \\\n",
       "0  /jupyter-nfs/data/Liberia/rural/southeast_tile...  0.137256  0.033329   \n",
       "1  /jupyter-nfs/data/Liberia/rural/southeast_tile...  1.413542  0.016365   \n",
       "2  /jupyter-nfs/data/Liberia/rural/southeast_tile...  0.106881  0.000000   \n",
       "3  /jupyter-nfs/data/Liberia/rural/southeast_tile...  0.405045  0.009956   \n",
       "4  /jupyter-nfs/data/Liberia/rural/southeast_tile...  0.279609  0.000000   \n",
       "\n",
       "    pool5.2   pool5.3   pool5.4  pool5.5  pool5.6  pool5.7  pool5.8  \\\n",
       "0  0.243107  0.000000  0.000000      0.0      0.0      0.0      0.0   \n",
       "1  0.089910  0.000000  0.000000      0.0      0.0      0.0      0.0   \n",
       "2  0.070017  0.026601  0.009001      0.0      0.0      0.0      0.0   \n",
       "3  0.000000  0.000000  0.045935      0.0      0.0      0.0      0.0   \n",
       "4  0.409207  0.000000  0.021985      0.0      0.0      0.0      0.0   \n",
       "\n",
       "      ...      pool5.2038  pool5.2039  pool5.2040  pool5.2041  pool5.2042  \\\n",
       "0     ...        0.000000         0.0         0.0    0.000000         0.0   \n",
       "1     ...        0.284178         0.0         0.0    0.068741         0.0   \n",
       "2     ...        0.000000         0.0         0.0    0.001180         0.0   \n",
       "3     ...        0.000000         0.0         0.0    0.000000         0.0   \n",
       "4     ...        0.000000         0.0         0.0    0.000000         0.0   \n",
       "\n",
       "   pool5.2043  pool5.2044  pool5.2045  pool5.2046  pool5.2047  \n",
       "0         0.0         0.0    0.147094    0.000000         0.0  \n",
       "1         0.0         0.0    0.000000    0.022701         0.0  \n",
       "2         0.0         0.0    0.132630    0.000000         0.0  \n",
       "3         0.0         0.0    0.015846    0.000000         0.0  \n",
       "4         0.0         0.0    0.003470    0.000000         0.0  \n",
       "\n",
       "[5 rows x 2049 columns]"
      ]
     },
     "execution_count": 3,
     "metadata": {},
     "output_type": "execute_result"
    }
   ],
   "source": [
    "df.head()"
   ]
  },
  {
   "cell_type": "code",
   "execution_count": 4,
   "metadata": {
    "collapsed": false
   },
   "outputs": [],
   "source": [
    "images = df.iloc[:,0]"
   ]
  },
  {
   "cell_type": "code",
   "execution_count": 5,
   "metadata": {
    "collapsed": false
   },
   "outputs": [],
   "source": [
    "X = np.array(df.iloc[:,1:])\n"
   ]
  },
  {
   "cell_type": "code",
   "execution_count": 8,
   "metadata": {
    "collapsed": false
   },
   "outputs": [],
   "source": [
    "## samples look random enough so just split data into two\n",
    "N = int(df.shape[0]*.15)\n",
    "X_train = X[:N,:] \n",
    "X_test = X[N:,:]\n"
   ]
  },
  {
   "cell_type": "code",
   "execution_count": null,
   "metadata": {
    "collapsed": false
   },
   "outputs": [],
   "source": [
    "km = KMeans(n_clusters=100, init='k-means++',n_init=500, max_iter=5000, random_state=0, n_jobs=-4)\n",
    "km.fit(X_train)"
   ]
  },
  {
   "cell_type": "code",
   "execution_count": null,
   "metadata": {
    "collapsed": false
   },
   "outputs": [],
   "source": [
    "import collections\n",
    "\n",
    "def make_counter_df(input_list):\n",
    "    counters = collections.Counter(input_list)\n",
    "    counters_df = pd.DataFrame.from_dict(counters, orient = 'index')\n",
    "    return counters_df/counters_df.sum()"
   ]
  },
  {
   "cell_type": "code",
   "execution_count": null,
   "metadata": {
    "collapsed": true
   },
   "outputs": [],
   "source": [
    "def organize_images(kmeans_imgs, features, image_paths):\n",
    "    cluster_orders = RandomizedPCA(n_components=1).fit_transform(kmeans_imgs.cluster_centers_)\n",
    "    clusters = km.transform(features)\n",
    "    clusters_distances_ordered = clusters[:,list(np.argsort(list(cluster_orders), axis = 0).squeeze())]\n",
    "    clusters_df = pd.DataFrame({\"image_paths\": image_paths, 'cluster': np.argmin(clusters_distances_ordered, axis = 1), \n",
    "        'dist': np.min(clusters_distances_ordered*10, axis = 1).astype(int)})\n",
    "    \n",
    "    return clusters_df"
   ]
  },
  {
   "cell_type": "code",
   "execution_count": null,
   "metadata": {
    "collapsed": false
   },
   "outputs": [],
   "source": [
    "clustered_train_ordered = organize_images(km, X_train, df.iloc[:N,0])\n",
    "clustered_test_ordered = organize_images(km, X_test, df.iloc[N:,0])"
   ]
  },
  {
   "cell_type": "code",
   "execution_count": null,
   "metadata": {
    "collapsed": false
   },
   "outputs": [],
   "source": [
    "clustered_train_ordered.head()"
   ]
  },
  {
   "cell_type": "code",
   "execution_count": null,
   "metadata": {
    "collapsed": false
   },
   "outputs": [],
   "source": [
    "make_counter_df(clustered_train_ordered.cluster).plot()\n"
   ]
  },
  {
   "cell_type": "code",
   "execution_count": null,
   "metadata": {
    "collapsed": false,
    "scrolled": true
   },
   "outputs": [],
   "source": [
    "make_counter_df(clustered_test_ordered.cluster).plot()"
   ]
  },
  {
   "cell_type": "code",
   "execution_count": null,
   "metadata": {
    "collapsed": true
   },
   "outputs": [],
   "source": [
    "clustered_train_ordered[[\"image_paths\",\"cluster\",\"dist\"]].to_csv(\"../results/100_cluster_distributions_rural_train.csv\", \n",
    "                                                                    index = False)\n",
    "clustered_test_ordered[[\"image_paths\",\"cluster\",\"dist\"]].to_csv(\"../results/100_cluster_distributions_rural_test.csv\", \n",
    "                                                                    index = False)\n"
   ]
  },
  {
   "cell_type": "code",
   "execution_count": null,
   "metadata": {
    "collapsed": true
   },
   "outputs": [],
   "source": []
  }
 ],
 "metadata": {
  "kernelspec": {
   "display_name": "Python 2",
   "language": "python",
   "name": "python2"
  },
  "language_info": {
   "codemirror_mode": {
    "name": "ipython",
    "version": 2
   },
   "file_extension": ".py",
   "mimetype": "text/x-python",
   "name": "python",
   "nbconvert_exporter": "python",
   "pygments_lexer": "ipython2",
   "version": "2.7.5"
  }
 },
 "nbformat": 4,
 "nbformat_minor": 0
}
