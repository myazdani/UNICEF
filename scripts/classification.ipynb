{
 "cells": [
  {
   "cell_type": "code",
   "execution_count": 1,
   "metadata": {
    "collapsed": true
   },
   "outputs": [],
   "source": [
    "import pandas as pd\n",
    "import numpy as np\n",
    "\n",
    "from sklearn.linear_model import LogisticRegressionCV\n",
    "from sklearn.model_selection import cross_val_score, train_test_split\n",
    "from sklearn.metrics import roc_auc_score, average_precision_score, roc_curve\n",
    "\n",
    "\n",
    "import matplotlib.pyplot as plt\n",
    "%matplotlib inline"
   ]
  },
  {
   "cell_type": "markdown",
   "metadata": {},
   "source": [
    "# Data prep"
   ]
  },
  {
   "cell_type": "code",
   "execution_count": 2,
   "metadata": {
    "collapsed": false
   },
   "outputs": [
    {
     "data": {
      "text/html": [
       "<div>\n",
       "<table border=\"1\" class=\"dataframe\">\n",
       "  <thead>\n",
       "    <tr style=\"text-align: right;\">\n",
       "      <th></th>\n",
       "      <th>image</th>\n",
       "      <th>num_schools</th>\n",
       "      <th>image_name</th>\n",
       "    </tr>\n",
       "  </thead>\n",
       "  <tbody>\n",
       "    <tr>\n",
       "      <th>0</th>\n",
       "      <td>/media/sf_Big_Pixel/unicef/Liberia/Rural/south...</td>\n",
       "      <td>0</td>\n",
       "      <td>Sanniquellie_SE__9800_57400.tif</td>\n",
       "    </tr>\n",
       "    <tr>\n",
       "      <th>1</th>\n",
       "      <td>/media/sf_Big_Pixel/unicef/Liberia/Rural/south...</td>\n",
       "      <td>0</td>\n",
       "      <td>Sanniquellie_SE__9800_57600.tif</td>\n",
       "    </tr>\n",
       "    <tr>\n",
       "      <th>2</th>\n",
       "      <td>/media/sf_Big_Pixel/unicef/Liberia/Rural/south...</td>\n",
       "      <td>0</td>\n",
       "      <td>Sanniquellie_SE__9800_57800.tif</td>\n",
       "    </tr>\n",
       "    <tr>\n",
       "      <th>3</th>\n",
       "      <td>/media/sf_Big_Pixel/unicef/Liberia/Rural/south...</td>\n",
       "      <td>0</td>\n",
       "      <td>Sanniquellie_SE__9800_5800.tif</td>\n",
       "    </tr>\n",
       "    <tr>\n",
       "      <th>4</th>\n",
       "      <td>/media/sf_Big_Pixel/unicef/Liberia/Rural/south...</td>\n",
       "      <td>0</td>\n",
       "      <td>Sanniquellie_SE__9800_58000.tif</td>\n",
       "    </tr>\n",
       "  </tbody>\n",
       "</table>\n",
       "</div>"
      ],
      "text/plain": [
       "                                               image  num_schools  \\\n",
       "0  /media/sf_Big_Pixel/unicef/Liberia/Rural/south...            0   \n",
       "1  /media/sf_Big_Pixel/unicef/Liberia/Rural/south...            0   \n",
       "2  /media/sf_Big_Pixel/unicef/Liberia/Rural/south...            0   \n",
       "3  /media/sf_Big_Pixel/unicef/Liberia/Rural/south...            0   \n",
       "4  /media/sf_Big_Pixel/unicef/Liberia/Rural/south...            0   \n",
       "\n",
       "                        image_name  \n",
       "0  Sanniquellie_SE__9800_57400.tif  \n",
       "1  Sanniquellie_SE__9800_57600.tif  \n",
       "2  Sanniquellie_SE__9800_57800.tif  \n",
       "3   Sanniquellie_SE__9800_5800.tif  \n",
       "4  Sanniquellie_SE__9800_58000.tif  "
      ]
     },
     "execution_count": 2,
     "metadata": {},
     "output_type": "execute_result"
    }
   ],
   "source": [
    "df_truth = pd.read_csv(\"/jupyter-nfs/data/Liberia/ground_truth/schools_SE_200.csv\")\n",
    "df_truth[\"image_name\"] = df_truth.image.apply(lambda x: x.split(\"/\")[-1])\n",
    "df_truth.head()"
   ]
  },
  {
   "cell_type": "code",
   "execution_count": 3,
   "metadata": {
    "collapsed": false
   },
   "outputs": [
    {
     "data": {
      "text/html": [
       "<div>\n",
       "<table border=\"1\" class=\"dataframe\">\n",
       "  <thead>\n",
       "    <tr style=\"text-align: right;\">\n",
       "      <th></th>\n",
       "      <th>image_paths</th>\n",
       "      <th>pool5.0</th>\n",
       "      <th>pool5.1</th>\n",
       "      <th>pool5.2</th>\n",
       "      <th>pool5.3</th>\n",
       "      <th>pool5.4</th>\n",
       "      <th>pool5.5</th>\n",
       "      <th>pool5.6</th>\n",
       "      <th>pool5.7</th>\n",
       "      <th>pool5.8</th>\n",
       "      <th>...</th>\n",
       "      <th>pool5.2038</th>\n",
       "      <th>pool5.2039</th>\n",
       "      <th>pool5.2040</th>\n",
       "      <th>pool5.2041</th>\n",
       "      <th>pool5.2042</th>\n",
       "      <th>pool5.2043</th>\n",
       "      <th>pool5.2044</th>\n",
       "      <th>pool5.2045</th>\n",
       "      <th>pool5.2046</th>\n",
       "      <th>pool5.2047</th>\n",
       "    </tr>\n",
       "  </thead>\n",
       "  <tbody>\n",
       "    <tr>\n",
       "      <th>0</th>\n",
       "      <td>/jupyter-nfs/data/Liberia/rural/southeast_tile...</td>\n",
       "      <td>0.137256</td>\n",
       "      <td>0.033329</td>\n",
       "      <td>0.243107</td>\n",
       "      <td>0.000000</td>\n",
       "      <td>0.000000</td>\n",
       "      <td>0.0</td>\n",
       "      <td>0.0</td>\n",
       "      <td>0.0</td>\n",
       "      <td>0.0</td>\n",
       "      <td>...</td>\n",
       "      <td>0.000000</td>\n",
       "      <td>0.0</td>\n",
       "      <td>0.0</td>\n",
       "      <td>0.000000</td>\n",
       "      <td>0.0</td>\n",
       "      <td>0.0</td>\n",
       "      <td>0.0</td>\n",
       "      <td>0.147094</td>\n",
       "      <td>0.000000</td>\n",
       "      <td>0.0</td>\n",
       "    </tr>\n",
       "    <tr>\n",
       "      <th>1</th>\n",
       "      <td>/jupyter-nfs/data/Liberia/rural/southeast_tile...</td>\n",
       "      <td>1.413542</td>\n",
       "      <td>0.016365</td>\n",
       "      <td>0.089910</td>\n",
       "      <td>0.000000</td>\n",
       "      <td>0.000000</td>\n",
       "      <td>0.0</td>\n",
       "      <td>0.0</td>\n",
       "      <td>0.0</td>\n",
       "      <td>0.0</td>\n",
       "      <td>...</td>\n",
       "      <td>0.284178</td>\n",
       "      <td>0.0</td>\n",
       "      <td>0.0</td>\n",
       "      <td>0.068741</td>\n",
       "      <td>0.0</td>\n",
       "      <td>0.0</td>\n",
       "      <td>0.0</td>\n",
       "      <td>0.000000</td>\n",
       "      <td>0.022701</td>\n",
       "      <td>0.0</td>\n",
       "    </tr>\n",
       "    <tr>\n",
       "      <th>2</th>\n",
       "      <td>/jupyter-nfs/data/Liberia/rural/southeast_tile...</td>\n",
       "      <td>0.106881</td>\n",
       "      <td>0.000000</td>\n",
       "      <td>0.070017</td>\n",
       "      <td>0.026601</td>\n",
       "      <td>0.009001</td>\n",
       "      <td>0.0</td>\n",
       "      <td>0.0</td>\n",
       "      <td>0.0</td>\n",
       "      <td>0.0</td>\n",
       "      <td>...</td>\n",
       "      <td>0.000000</td>\n",
       "      <td>0.0</td>\n",
       "      <td>0.0</td>\n",
       "      <td>0.001180</td>\n",
       "      <td>0.0</td>\n",
       "      <td>0.0</td>\n",
       "      <td>0.0</td>\n",
       "      <td>0.132630</td>\n",
       "      <td>0.000000</td>\n",
       "      <td>0.0</td>\n",
       "    </tr>\n",
       "    <tr>\n",
       "      <th>3</th>\n",
       "      <td>/jupyter-nfs/data/Liberia/rural/southeast_tile...</td>\n",
       "      <td>0.405045</td>\n",
       "      <td>0.009956</td>\n",
       "      <td>0.000000</td>\n",
       "      <td>0.000000</td>\n",
       "      <td>0.045935</td>\n",
       "      <td>0.0</td>\n",
       "      <td>0.0</td>\n",
       "      <td>0.0</td>\n",
       "      <td>0.0</td>\n",
       "      <td>...</td>\n",
       "      <td>0.000000</td>\n",
       "      <td>0.0</td>\n",
       "      <td>0.0</td>\n",
       "      <td>0.000000</td>\n",
       "      <td>0.0</td>\n",
       "      <td>0.0</td>\n",
       "      <td>0.0</td>\n",
       "      <td>0.015846</td>\n",
       "      <td>0.000000</td>\n",
       "      <td>0.0</td>\n",
       "    </tr>\n",
       "    <tr>\n",
       "      <th>4</th>\n",
       "      <td>/jupyter-nfs/data/Liberia/rural/southeast_tile...</td>\n",
       "      <td>0.279609</td>\n",
       "      <td>0.000000</td>\n",
       "      <td>0.409207</td>\n",
       "      <td>0.000000</td>\n",
       "      <td>0.021985</td>\n",
       "      <td>0.0</td>\n",
       "      <td>0.0</td>\n",
       "      <td>0.0</td>\n",
       "      <td>0.0</td>\n",
       "      <td>...</td>\n",
       "      <td>0.000000</td>\n",
       "      <td>0.0</td>\n",
       "      <td>0.0</td>\n",
       "      <td>0.000000</td>\n",
       "      <td>0.0</td>\n",
       "      <td>0.0</td>\n",
       "      <td>0.0</td>\n",
       "      <td>0.003470</td>\n",
       "      <td>0.000000</td>\n",
       "      <td>0.0</td>\n",
       "    </tr>\n",
       "  </tbody>\n",
       "</table>\n",
       "<p>5 rows × 2049 columns</p>\n",
       "</div>"
      ],
      "text/plain": [
       "                                         image_paths   pool5.0   pool5.1  \\\n",
       "0  /jupyter-nfs/data/Liberia/rural/southeast_tile...  0.137256  0.033329   \n",
       "1  /jupyter-nfs/data/Liberia/rural/southeast_tile...  1.413542  0.016365   \n",
       "2  /jupyter-nfs/data/Liberia/rural/southeast_tile...  0.106881  0.000000   \n",
       "3  /jupyter-nfs/data/Liberia/rural/southeast_tile...  0.405045  0.009956   \n",
       "4  /jupyter-nfs/data/Liberia/rural/southeast_tile...  0.279609  0.000000   \n",
       "\n",
       "    pool5.2   pool5.3   pool5.4  pool5.5  pool5.6  pool5.7  pool5.8  \\\n",
       "0  0.243107  0.000000  0.000000      0.0      0.0      0.0      0.0   \n",
       "1  0.089910  0.000000  0.000000      0.0      0.0      0.0      0.0   \n",
       "2  0.070017  0.026601  0.009001      0.0      0.0      0.0      0.0   \n",
       "3  0.000000  0.000000  0.045935      0.0      0.0      0.0      0.0   \n",
       "4  0.409207  0.000000  0.021985      0.0      0.0      0.0      0.0   \n",
       "\n",
       "      ...      pool5.2038  pool5.2039  pool5.2040  pool5.2041  pool5.2042  \\\n",
       "0     ...        0.000000         0.0         0.0    0.000000         0.0   \n",
       "1     ...        0.284178         0.0         0.0    0.068741         0.0   \n",
       "2     ...        0.000000         0.0         0.0    0.001180         0.0   \n",
       "3     ...        0.000000         0.0         0.0    0.000000         0.0   \n",
       "4     ...        0.000000         0.0         0.0    0.000000         0.0   \n",
       "\n",
       "   pool5.2043  pool5.2044  pool5.2045  pool5.2046  pool5.2047  \n",
       "0         0.0         0.0    0.147094    0.000000         0.0  \n",
       "1         0.0         0.0    0.000000    0.022701         0.0  \n",
       "2         0.0         0.0    0.132630    0.000000         0.0  \n",
       "3         0.0         0.0    0.015846    0.000000         0.0  \n",
       "4         0.0         0.0    0.003470    0.000000         0.0  \n",
       "\n",
       "[5 rows x 2049 columns]"
      ]
     },
     "execution_count": 3,
     "metadata": {},
     "output_type": "execute_result"
    }
   ],
   "source": [
    "df = pd.read_csv(\"../features/rural-ResNet50-pool.csv\")\n",
    "df.head()"
   ]
  },
  {
   "cell_type": "code",
   "execution_count": 4,
   "metadata": {
    "collapsed": false
   },
   "outputs": [
    {
     "name": "stdout",
     "output_type": "stream",
     "text": [
      "Ground truth file shape: (71447, 3)\n",
      "Features file shape: (71448, 2049)\n"
     ]
    }
   ],
   "source": [
    "print(\"Ground truth file shape:\", df_truth.shape)\n",
    "print(\"Features file shape:\", df.shape)"
   ]
  },
  {
   "cell_type": "code",
   "execution_count": 5,
   "metadata": {
    "collapsed": true
   },
   "outputs": [],
   "source": [
    "df[\"image_name\"] = df.image_paths.apply(lambda x: x.split(\"/\")[-1])\n",
    "df_truth[\"image_name\"] = df_truth.image.apply(lambda x: x.split(\"/\")[-1])\n",
    "\n",
    "df_merged = df_truth.merge(df)"
   ]
  },
  {
   "cell_type": "markdown",
   "metadata": {},
   "source": [
    "# Classify "
   ]
  },
  {
   "cell_type": "code",
   "execution_count": 6,
   "metadata": {
    "collapsed": false
   },
   "outputs": [],
   "source": [
    "# select features and labels\n",
    "X = np.array(df_merged.filter(regex=\"pool5.*\"))\n",
    "y = np.array(df_merged.num_schools)"
   ]
  },
  {
   "cell_type": "code",
   "execution_count": 7,
   "metadata": {
    "collapsed": false
   },
   "outputs": [],
   "source": [
    "# some images have more than one school; clip so that we define a binary label\n",
    "# school vs. no school\n",
    "y[y>0] = 1"
   ]
  },
  {
   "cell_type": "code",
   "execution_count": 8,
   "metadata": {
    "collapsed": true
   },
   "outputs": [],
   "source": [
    "clf = LogisticRegressionCV(class_weight=\"balanced\", random_state = 0, \n",
    "                           scoring= \"average_precision\", n_jobs = -2)"
   ]
  },
  {
   "cell_type": "code",
   "execution_count": 9,
   "metadata": {
    "collapsed": false
   },
   "outputs": [
    {
     "name": "stdout",
     "output_type": "stream",
     "text": [
      "CPU times: user 13min 56s, sys: 7min 24s, total: 21min 20s\n",
      "Wall time: 11min 29s\n"
     ]
    }
   ],
   "source": [
    "%%time\n",
    "np.random.seed(42)\n",
    "scores = cross_val_score(clf, X, y, cv = 5, scoring= \"average_precision\")\n"
   ]
  },
  {
   "cell_type": "code",
   "execution_count": 10,
   "metadata": {
    "collapsed": false
   },
   "outputs": [
    {
     "name": "stdout",
     "output_type": "stream",
     "text": [
      "Average precision is averaged over all folds 0.382295469631\n"
     ]
    }
   ],
   "source": [
    "print(\"Average precision is averaged over all folds\", np.mean(scores))"
   ]
  },
  {
   "cell_type": "markdown",
   "metadata": {},
   "source": [
    "Average percision for each fold:"
   ]
  },
  {
   "cell_type": "code",
   "execution_count": 11,
   "metadata": {
    "collapsed": false
   },
   "outputs": [
    {
     "data": {
      "text/plain": [
       "array([ 0.18087483,  0.38134178,  0.56833745,  0.5244456 ,  0.25647769])"
      ]
     },
     "execution_count": 11,
     "metadata": {},
     "output_type": "execute_result"
    }
   ],
   "source": [
    "scores"
   ]
  },
  {
   "cell_type": "code",
   "execution_count": 12,
   "metadata": {
    "collapsed": false
   },
   "outputs": [
    {
     "name": "stdout",
     "output_type": "stream",
     "text": [
      "CPU times: user 13min 58s, sys: 8min 10s, total: 22min 9s\n",
      "Wall time: 12min 2s\n"
     ]
    }
   ],
   "source": [
    "%%time\n",
    "np.random.seed(42)\n",
    "scores = cross_val_score(clf, X, y, cv = 5, scoring= \"roc_auc\")"
   ]
  },
  {
   "cell_type": "code",
   "execution_count": 13,
   "metadata": {
    "collapsed": false
   },
   "outputs": [
    {
     "data": {
      "text/plain": [
       "array([ 0.99366246,  0.99261905,  0.99877442,  0.99411724,  0.99767491])"
      ]
     },
     "execution_count": 13,
     "metadata": {},
     "output_type": "execute_result"
    }
   ],
   "source": [
    "scores"
   ]
  },
  {
   "cell_type": "markdown",
   "metadata": {},
   "source": [
    "## Further evaluations of logistic regression model"
   ]
  },
  {
   "cell_type": "code",
   "execution_count": 14,
   "metadata": {
    "collapsed": true
   },
   "outputs": [],
   "source": [
    "## plotting precision recall curves wrapper\n",
    "from sklearn.metrics import precision_recall_curve\n",
    "\n",
    "def plot_precision_recall_curve(y_test, y_score, title = \"\"):\n",
    "    precision, recall, _ = precision_recall_curve(y_test, y_score)\n",
    "\n",
    "    plt.step(recall, precision, color='b', alpha=0.2,\n",
    "             where='post')\n",
    "    plt.fill_between(recall, precision, step='post', alpha=0.2,\n",
    "                     color='b')\n",
    "\n",
    "    plt.xlabel('Recall')\n",
    "    plt.ylabel('Precision')\n",
    "    plt.ylim([0.0, 1.05])\n",
    "    plt.xlim([0.0, 1.0])\n",
    "    plt.title(title)"
   ]
  },
  {
   "cell_type": "code",
   "execution_count": 29,
   "metadata": {
    "collapsed": false
   },
   "outputs": [
    {
     "name": "stdout",
     "output_type": "stream",
     "text": [
      "CPU times: user 55.1 s, sys: 52.2 s, total: 1min 47s\n",
      "Wall time: 6min 3s\n"
     ]
    }
   ],
   "source": [
    "%%time \n",
    "X_train, X_test, y_train, y_test = train_test_split(X, y, test_size=0.33, random_state=42, stratify = y)\n",
    "LR = LogisticRegressionCV(cv = 10, n_jobs=-2, random_state = 42, class_weight=\"balanced\")\n",
    "LR.fit(X_train, y_train)\n",
    "y_scores = LR.predict_proba(X_test)[:,1]\n",
    "\n",
    "AUC = roc_auc_score(y_test, y_scores)\n",
    "avg_prec = average_precision_score(y_test, y_scores)"
   ]
  },
  {
   "cell_type": "code",
   "execution_count": 30,
   "metadata": {
    "collapsed": false
   },
   "outputs": [
    {
     "data": {
      "image/png": "[encoded data removed]",
      "text/plain": [
       "<matplotlib.figure.Figure at 0x7f1d760518d0>"
      ]
     },
     "metadata": {},
     "output_type": "display_data"
    }
   ],
   "source": [
    "plot_precision_recall_curve(y_test, LR.predict_proba(X_test)[:,1], \n",
    "                            \"Logistic Regression Baseline \\n AUC: {0:0.4f}\".format(AUC) \n",
    "                            + \"\\nAverage Precision: {0:0.4f}\".format(avg_prec))"
   ]
  },
  {
   "cell_type": "code",
   "execution_count": 33,
   "metadata": {
    "collapsed": false
   },
   "outputs": [
    {
     "data": {
      "text/plain": [
       "<matplotlib.text.Text at 0x7f1d75b46e10>"
      ]
     },
     "execution_count": 33,
     "metadata": {},
     "output_type": "execute_result"
    },
    {
     "data": {
      "image/png": "[encoded data removed]",
      "text/plain": [
       "<matplotlib.figure.Figure at 0x7f1d75a43240>"
      ]
     },
     "metadata": {},
     "output_type": "display_data"
    }
   ],
   "source": [
    "fpr, tpr, thresholds = roc_curve(y_test, y_scores, pos_label=1)\n",
    "\n",
    "plt.plot(fpr, tpr)\n",
    "plt.plot([0,1], [0,1])\n",
    "plt.legend([\"Logistic classifier\", \"Random\"], loc = \"lower right\")\n",
    "plt.xlabel('False Positive Rate')\n",
    "plt.ylabel('True Positive Rate')\n",
    "plt.ylim([0.0, 1.05])\n",
    "plt.xlim([0.0, 1.0])\n",
    "plt.title(\"ROC curve\")"
   ]
  },
  {
   "cell_type": "markdown",
   "metadata": {},
   "source": [
    "## Shuffled targets"
   ]
  },
  {
   "cell_type": "code",
   "execution_count": 34,
   "metadata": {
    "collapsed": true
   },
   "outputs": [],
   "source": [
    "from sklearn.utils import shuffle"
   ]
  },
  {
   "cell_type": "code",
   "execution_count": 35,
   "metadata": {
    "collapsed": false
   },
   "outputs": [
    {
     "name": "stdout",
     "output_type": "stream",
     "text": [
      "CPU times: user 2min 32s, sys: 1min 22s, total: 3min 55s\n",
      "Wall time: 7min 50s\n"
     ]
    }
   ],
   "source": [
    "%%time \n",
    "X_train, X_test, y_train, y_test = train_test_split(X, \n",
    "                                                    shuffle(y, random_state = 111), \n",
    "                                                    test_size=0.33, \n",
    "                                                    random_state=42, \n",
    "                                                    stratify = y)\n",
    "LR = LogisticRegressionCV(cv = 10, n_jobs=-2, random_state = 42, class_weight=\"balanced\")\n",
    "LR.fit(X_train, y_train)\n",
    "y_scores = LR.predict_proba(X_test)[:,1]\n",
    "\n",
    "AUC = roc_auc_score(y_test, y_scores)\n",
    "avg_prec = average_precision_score(y_test, y_scores)"
   ]
  },
  {
   "cell_type": "code",
   "execution_count": 36,
   "metadata": {
    "collapsed": false
   },
   "outputs": [
    {
     "data": {
      "image/png": "[encoded data removed]",
      "text/plain": [
       "<matplotlib.figure.Figure at 0x7f1d75bd57f0>"
      ]
     },
     "metadata": {},
     "output_type": "display_data"
    }
   ],
   "source": [
    "plot_precision_recall_curve(y_test, LR.predict_proba(X_test)[:,1], \n",
    "                            \"Logistic Regression Baseline \\n AUC: {0:0.4f}\".format(AUC) \n",
    "                            + \"\\nAverage Precision: {0:0.4f}\".format(avg_prec))"
   ]
  },
  {
   "cell_type": "code",
   "execution_count": 37,
   "metadata": {
    "collapsed": false
   },
   "outputs": [
    {
     "data": {
      "text/plain": [
       "<matplotlib.text.Text at 0x7f1d75d0d390>"
      ]
     },
     "execution_count": 37,
     "metadata": {},
     "output_type": "execute_result"
    },
    {
     "data": {
      "image/png": "[encoded data removed]",
      "text/plain": [
       "<matplotlib.figure.Figure at 0x7f1d75f5cb38>"
      ]
     },
     "metadata": {},
     "output_type": "display_data"
    }
   ],
   "source": [
    "fpr, tpr, thresholds = roc_curve(y_test, y_scores, pos_label=1)\n",
    "\n",
    "plt.plot(fpr, tpr)\n",
    "plt.plot([0,1], [0,1])\n",
    "plt.legend([\"Logistic classifier\", \"Random\"], loc = \"lower right\")\n",
    "plt.xlabel('False Positive Rate')\n",
    "plt.ylabel('True Positive Rate')\n",
    "plt.ylim([0.0, 1.05])\n",
    "plt.xlim([0.0, 1.0])\n",
    "plt.title(\"ROC curve\")"
   ]
  },
  {
   "cell_type": "code",
   "execution_count": null,
   "metadata": {
    "collapsed": true
   },
   "outputs": [],
   "source": []
  }
 ],
 "metadata": {
  "kernelspec": {
   "display_name": "Python 3",
   "language": "python",
   "name": "python3"
  },
  "language_info": {
   "codemirror_mode": {
    "name": "ipython",
    "version": 3
   },
   "file_extension": ".py",
   "mimetype": "text/x-python",
   "name": "python",
   "nbconvert_exporter": "python",
   "pygments_lexer": "ipython3",
   "version": "3.5.2"
  }
 },
 "nbformat": 4,
 "nbformat_minor": 2
}
