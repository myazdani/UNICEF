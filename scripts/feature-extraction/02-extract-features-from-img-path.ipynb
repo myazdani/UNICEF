{
 "cells": [
  {
   "cell_type": "markdown",
   "metadata": {},
   "source": [
    "# Find paths to images"
   ]
  },
  {
   "cell_type": "code",
   "execution_count": 1,
   "metadata": {
    "collapsed": true
   },
   "outputs": [],
   "source": [
    "src_path = '/jupyter-nfs/data/Liberia/rural/'\n",
    "write_path = \"../../features/rural-ResNet50-pool.csv\""
   ]
  },
  {
   "cell_type": "code",
   "execution_count": 2,
   "metadata": {
    "collapsed": false
   },
   "outputs": [
    {
     "name": "stdout",
     "output_type": "stream",
     "text": [
      "number of images is 71448\n"
     ]
    }
   ],
   "source": [
    "import os\n",
    "\n",
    "image_types = (\".jpg\", \".png\", \".JPG\", \".PNG\", \".JPEG\", \".jpeg\",\".tif\", \".tiff\", \".TIFF\", '.TIF')\n",
    " \n",
    "image_paths = []  \n",
    "for root, dirs, files in os.walk(src_path):\n",
    "    image_paths.extend([os.path.join(root, f) for f in files if f.endswith(image_types)])\n",
    "    \n",
    "print 'number of images is', len(image_paths)"
   ]
  },
  {
   "cell_type": "markdown",
   "metadata": {},
   "source": [
    "## Load SkiCaffe"
   ]
  },
  {
   "cell_type": "code",
   "execution_count": 3,
   "metadata": {
    "collapsed": false
   },
   "outputs": [
    {
     "name": "stdout",
     "output_type": "stream",
     "text": [
      "caffe imported successfully\n",
      "Number of layers: 106\n"
     ]
    },
    {
     "data": {
      "text/plain": [
       "[('data', (1, 3, 224, 224)),\n",
       " ('conv1', (1, 64, 112, 112)),\n",
       " ('pool1', (1, 64, 56, 56)),\n",
       " ('pool1_pool1_0_split_0', (1, 64, 56, 56)),\n",
       " ('pool1_pool1_0_split_1', (1, 64, 56, 56)),\n",
       " ('res2a_branch1', (1, 256, 56, 56)),\n",
       " ('res2a_branch2a', (1, 64, 56, 56)),\n",
       " ('res2a_branch2b', (1, 64, 56, 56)),\n",
       " ('res2a_branch2c', (1, 256, 56, 56)),\n",
       " ('res2a', (1, 256, 56, 56)),\n",
       " ('res2a_res2a_relu_0_split_0', (1, 256, 56, 56)),\n",
       " ('res2a_res2a_relu_0_split_1', (1, 256, 56, 56)),\n",
       " ('res2b_branch2a', (1, 64, 56, 56)),\n",
       " ('res2b_branch2b', (1, 64, 56, 56)),\n",
       " ('res2b_branch2c', (1, 256, 56, 56)),\n",
       " ('res2b', (1, 256, 56, 56)),\n",
       " ('res2b_res2b_relu_0_split_0', (1, 256, 56, 56)),\n",
       " ('res2b_res2b_relu_0_split_1', (1, 256, 56, 56)),\n",
       " ('res2c_branch2a', (1, 64, 56, 56)),\n",
       " ('res2c_branch2b', (1, 64, 56, 56)),\n",
       " ('res2c_branch2c', (1, 256, 56, 56)),\n",
       " ('res2c', (1, 256, 56, 56)),\n",
       " ('res2c_res2c_relu_0_split_0', (1, 256, 56, 56)),\n",
       " ('res2c_res2c_relu_0_split_1', (1, 256, 56, 56)),\n",
       " ('res3a_branch1', (1, 512, 28, 28)),\n",
       " ('res3a_branch2a', (1, 128, 28, 28)),\n",
       " ('res3a_branch2b', (1, 128, 28, 28)),\n",
       " ('res3a_branch2c', (1, 512, 28, 28)),\n",
       " ('res3a', (1, 512, 28, 28)),\n",
       " ('res3a_res3a_relu_0_split_0', (1, 512, 28, 28)),\n",
       " ('res3a_res3a_relu_0_split_1', (1, 512, 28, 28)),\n",
       " ('res3b_branch2a', (1, 128, 28, 28)),\n",
       " ('res3b_branch2b', (1, 128, 28, 28)),\n",
       " ('res3b_branch2c', (1, 512, 28, 28)),\n",
       " ('res3b', (1, 512, 28, 28)),\n",
       " ('res3b_res3b_relu_0_split_0', (1, 512, 28, 28)),\n",
       " ('res3b_res3b_relu_0_split_1', (1, 512, 28, 28)),\n",
       " ('res3c_branch2a', (1, 128, 28, 28)),\n",
       " ('res3c_branch2b', (1, 128, 28, 28)),\n",
       " ('res3c_branch2c', (1, 512, 28, 28)),\n",
       " ('res3c', (1, 512, 28, 28)),\n",
       " ('res3c_res3c_relu_0_split_0', (1, 512, 28, 28)),\n",
       " ('res3c_res3c_relu_0_split_1', (1, 512, 28, 28)),\n",
       " ('res3d_branch2a', (1, 128, 28, 28)),\n",
       " ('res3d_branch2b', (1, 128, 28, 28)),\n",
       " ('res3d_branch2c', (1, 512, 28, 28)),\n",
       " ('res3d', (1, 512, 28, 28)),\n",
       " ('res3d_res3d_relu_0_split_0', (1, 512, 28, 28)),\n",
       " ('res3d_res3d_relu_0_split_1', (1, 512, 28, 28)),\n",
       " ('res4a_branch1', (1, 1024, 14, 14)),\n",
       " ('res4a_branch2a', (1, 256, 14, 14)),\n",
       " ('res4a_branch2b', (1, 256, 14, 14)),\n",
       " ('res4a_branch2c', (1, 1024, 14, 14)),\n",
       " ('res4a', (1, 1024, 14, 14)),\n",
       " ('res4a_res4a_relu_0_split_0', (1, 1024, 14, 14)),\n",
       " ('res4a_res4a_relu_0_split_1', (1, 1024, 14, 14)),\n",
       " ('res4b_branch2a', (1, 256, 14, 14)),\n",
       " ('res4b_branch2b', (1, 256, 14, 14)),\n",
       " ('res4b_branch2c', (1, 1024, 14, 14)),\n",
       " ('res4b', (1, 1024, 14, 14)),\n",
       " ('res4b_res4b_relu_0_split_0', (1, 1024, 14, 14)),\n",
       " ('res4b_res4b_relu_0_split_1', (1, 1024, 14, 14)),\n",
       " ('res4c_branch2a', (1, 256, 14, 14)),\n",
       " ('res4c_branch2b', (1, 256, 14, 14)),\n",
       " ('res4c_branch2c', (1, 1024, 14, 14)),\n",
       " ('res4c', (1, 1024, 14, 14)),\n",
       " ('res4c_res4c_relu_0_split_0', (1, 1024, 14, 14)),\n",
       " ('res4c_res4c_relu_0_split_1', (1, 1024, 14, 14)),\n",
       " ('res4d_branch2a', (1, 256, 14, 14)),\n",
       " ('res4d_branch2b', (1, 256, 14, 14)),\n",
       " ('res4d_branch2c', (1, 1024, 14, 14)),\n",
       " ('res4d', (1, 1024, 14, 14)),\n",
       " ('res4d_res4d_relu_0_split_0', (1, 1024, 14, 14)),\n",
       " ('res4d_res4d_relu_0_split_1', (1, 1024, 14, 14)),\n",
       " ('res4e_branch2a', (1, 256, 14, 14)),\n",
       " ('res4e_branch2b', (1, 256, 14, 14)),\n",
       " ('res4e_branch2c', (1, 1024, 14, 14)),\n",
       " ('res4e', (1, 1024, 14, 14)),\n",
       " ('res4e_res4e_relu_0_split_0', (1, 1024, 14, 14)),\n",
       " ('res4e_res4e_relu_0_split_1', (1, 1024, 14, 14)),\n",
       " ('res4f_branch2a', (1, 256, 14, 14)),\n",
       " ('res4f_branch2b', (1, 256, 14, 14)),\n",
       " ('res4f_branch2c', (1, 1024, 14, 14)),\n",
       " ('res4f', (1, 1024, 14, 14)),\n",
       " ('res4f_res4f_relu_0_split_0', (1, 1024, 14, 14)),\n",
       " ('res4f_res4f_relu_0_split_1', (1, 1024, 14, 14)),\n",
       " ('res5a_branch1', (1, 2048, 7, 7)),\n",
       " ('res5a_branch2a', (1, 512, 7, 7)),\n",
       " ('res5a_branch2b', (1, 512, 7, 7)),\n",
       " ('res5a_branch2c', (1, 2048, 7, 7)),\n",
       " ('res5a', (1, 2048, 7, 7)),\n",
       " ('res5a_res5a_relu_0_split_0', (1, 2048, 7, 7)),\n",
       " ('res5a_res5a_relu_0_split_1', (1, 2048, 7, 7)),\n",
       " ('res5b_branch2a', (1, 512, 7, 7)),\n",
       " ('res5b_branch2b', (1, 512, 7, 7)),\n",
       " ('res5b_branch2c', (1, 2048, 7, 7)),\n",
       " ('res5b', (1, 2048, 7, 7)),\n",
       " ('res5b_res5b_relu_0_split_0', (1, 2048, 7, 7)),\n",
       " ('res5b_res5b_relu_0_split_1', (1, 2048, 7, 7)),\n",
       " ('res5c_branch2a', (1, 512, 7, 7)),\n",
       " ('res5c_branch2b', (1, 512, 7, 7)),\n",
       " ('res5c_branch2c', (1, 2048, 7, 7)),\n",
       " ('res5c', (1, 2048, 7, 7)),\n",
       " ('pool5', (1, 2048, 1, 1)),\n",
       " ('fc1000', (1, 1000)),\n",
       " ('prob', (1, 1000))]"
      ]
     },
     "execution_count": 3,
     "metadata": {},
     "output_type": "execute_result"
    }
   ],
   "source": [
    "from skicaffe import SkiCaffe\n",
    "\n",
    "caffe_root = '/usr/local/caffe/'\n",
    "model_file = './models/ResNet-50-model.caffemodel'\n",
    "prototxt_file = './models/ResNet-50-deploy.prototxt'\n",
    "#model_file = caffe_root + 'models/bvlc_reference_caffenet/bvlc_reference_caffenet.caffemodel'\n",
    "#prototxt_file = caffe_root + 'models/bvlc_reference_caffenet/deploy.prototxt'\n",
    "\n",
    "ResNet = SkiCaffe(caffe_root = caffe_root,\n",
    "                  model_prototxt_path = prototxt_file, \n",
    "                  model_trained_path = model_file, \n",
    "                  include_labels = False,\n",
    "                  include_image_paths = True,\n",
    "                  return_type = \"pandasDF\")\n",
    "\n",
    "ResNet.fit()\n",
    "print 'Number of layers:', len(ResNet.layer_sizes)\n",
    "ResNet.layer_sizes"
   ]
  },
  {
   "cell_type": "code",
   "execution_count": null,
   "metadata": {
    "collapsed": false
   },
   "outputs": [],
   "source": [
    "image_features = ResNet.transform(X = image_paths, layer_name='pool5')\n"
   ]
  },
  {
   "cell_type": "code",
   "execution_count": null,
   "metadata": {
    "collapsed": false
   },
   "outputs": [],
   "source": [
    "image_features.head()"
   ]
  },
  {
   "cell_type": "code",
   "execution_count": null,
   "metadata": {
    "collapsed": true
   },
   "outputs": [],
   "source": [
    "image_features.to_csv(write_path, index = False)"
   ]
  },
  {
   "cell_type": "code",
   "execution_count": null,
   "metadata": {
    "collapsed": true
   },
   "outputs": [],
   "source": []
  }
 ],
 "metadata": {
  "kernelspec": {
   "display_name": "Python 2",
   "language": "python",
   "name": "python2"
  },
  "language_info": {
   "codemirror_mode": {
    "name": "ipython",
    "version": 2
   },
   "file_extension": ".py",
   "mimetype": "text/x-python",
   "name": "python",
   "nbconvert_exporter": "python",
   "pygments_lexer": "ipython2",
   "version": "2.7.5"
  }
 },
 "nbformat": 4,
 "nbformat_minor": 0
}
