{
 "cells": [
  {
   "cell_type": "markdown",
   "metadata": {},
   "source": [
    "# Find paths to images"
   ]
  },
  {
   "cell_type": "code",
   "execution_count": 1,
   "metadata": {
    "collapsed": true
   },
   "outputs": [],
   "source": [
    "src_path = '/jupyter-nfs/data/Liberia/tiles20161121'\n",
    "write_path = \"../../features/ResNet50-pool5.csv\""
   ]
  },
  {
   "cell_type": "code",
   "execution_count": 2,
   "metadata": {
    "collapsed": false
   },
   "outputs": [
    {
     "name": "stdout",
     "output_type": "stream",
     "text": [
      "number of images is 69651\n"
     ]
    }
   ],
   "source": [
    "import os\n",
    "\n",
    "image_types = (\".jpg\", \".png\", \".JPG\", \".PNG\", \".JPEG\", \".jpeg\",\".tif\", \".tiff\", \".TIFF\", '.TIF')\n",
    " \n",
    "image_paths = []  \n",
    "for root, dirs, files in os.walk(src_path):\n",
    "    image_paths.extend([os.path.join(root, f) for f in files if f.endswith(image_types)])\n",
    "    \n",
    "print 'number of images is', len(image_paths)"
   ]
  },
  {
   "cell_type": "markdown",
   "metadata": {},
   "source": [
    "## Load SkiCaffe"
   ]
  },
  {
   "cell_type": "code",
   "execution_count": null,
   "metadata": {
    "collapsed": false
   },
   "outputs": [],
   "source": [
    "from skicaffe import SkiCaffe\n",
    "\n",
    "caffe_root = '/usr/local/caffe/'\n",
    "model_file = './models/ResNet-50-model.caffemodel'\n",
    "prototxt_file = './models/ResNet-50-deploy.prototxt'\n",
    "\n",
    "ResNet = SkiCaffe(caffe_root = caffe_root,\n",
    "                  model_prototxt_path = prototxt_file, \n",
    "                  model_trained_path = model_file, \n",
    "                  include_labels = False,\n",
    "                  include_image_paths = True,\n",
    "                  return_type = \"pandasDF\")\n",
    "\n",
    "ResNet.fit()\n",
    "print 'Number of layers:', len(ResNet.layer_sizes)\n",
    "ResNet.layer_sizes"
   ]
  },
  {
   "cell_type": "code",
   "execution_count": 4,
   "metadata": {
    "collapsed": false
   },
   "outputs": [],
   "source": [
    "image_features = ResNet.transform(X = image_paths, layer_name='pool5')\n"
   ]
  },
  {
   "cell_type": "code",
   "execution_count": 5,
   "metadata": {
    "collapsed": false
   },
   "outputs": [
    {
     "data": {
      "text/html": [
       "<div>\n",
       "<table border=\"1\" class=\"dataframe\">\n",
       "  <thead>\n",
       "    <tr style=\"text-align: right;\">\n",
       "      <th></th>\n",
       "      <th>image_paths</th>\n",
       "      <th>pool5.0</th>\n",
       "      <th>pool5.1</th>\n",
       "      <th>pool5.2</th>\n",
       "      <th>pool5.3</th>\n",
       "      <th>pool5.4</th>\n",
       "      <th>pool5.5</th>\n",
       "      <th>pool5.6</th>\n",
       "      <th>pool5.7</th>\n",
       "      <th>pool5.8</th>\n",
       "      <th>...</th>\n",
       "      <th>pool5.2038</th>\n",
       "      <th>pool5.2039</th>\n",
       "      <th>pool5.2040</th>\n",
       "      <th>pool5.2041</th>\n",
       "      <th>pool5.2042</th>\n",
       "      <th>pool5.2043</th>\n",
       "      <th>pool5.2044</th>\n",
       "      <th>pool5.2045</th>\n",
       "      <th>pool5.2046</th>\n",
       "      <th>pool5.2047</th>\n",
       "    </tr>\n",
       "  </thead>\n",
       "  <tbody>\n",
       "    <tr>\n",
       "      <th>0</th>\n",
       "      <td>/jupyter-nfs/home/myazdani/feature-weights/dat...</td>\n",
       "      <td>1.469859</td>\n",
       "      <td>0.336714</td>\n",
       "      <td>0.674561</td>\n",
       "      <td>0.000000</td>\n",
       "      <td>0.500678</td>\n",
       "      <td>0.000000</td>\n",
       "      <td>2.829296</td>\n",
       "      <td>0.000000</td>\n",
       "      <td>0.141947</td>\n",
       "      <td>...</td>\n",
       "      <td>2.043268</td>\n",
       "      <td>0.022872</td>\n",
       "      <td>0.561339</td>\n",
       "      <td>0.126630</td>\n",
       "      <td>0.074406</td>\n",
       "      <td>0.001252</td>\n",
       "      <td>0.389879</td>\n",
       "      <td>0.313520</td>\n",
       "      <td>0.227468</td>\n",
       "      <td>0.292726</td>\n",
       "    </tr>\n",
       "    <tr>\n",
       "      <th>1</th>\n",
       "      <td>/jupyter-nfs/home/myazdani/feature-weights/dat...</td>\n",
       "      <td>1.230319</td>\n",
       "      <td>0.520604</td>\n",
       "      <td>0.692239</td>\n",
       "      <td>0.029806</td>\n",
       "      <td>0.028515</td>\n",
       "      <td>0.520848</td>\n",
       "      <td>1.756942</td>\n",
       "      <td>0.268782</td>\n",
       "      <td>1.119411</td>\n",
       "      <td>...</td>\n",
       "      <td>1.737500</td>\n",
       "      <td>0.006702</td>\n",
       "      <td>0.309935</td>\n",
       "      <td>0.005580</td>\n",
       "      <td>0.381964</td>\n",
       "      <td>0.065477</td>\n",
       "      <td>0.032521</td>\n",
       "      <td>1.598905</td>\n",
       "      <td>1.271583</td>\n",
       "      <td>0.708190</td>\n",
       "    </tr>\n",
       "    <tr>\n",
       "      <th>2</th>\n",
       "      <td>/jupyter-nfs/home/myazdani/feature-weights/dat...</td>\n",
       "      <td>1.067177</td>\n",
       "      <td>0.272474</td>\n",
       "      <td>0.207357</td>\n",
       "      <td>0.370520</td>\n",
       "      <td>0.593995</td>\n",
       "      <td>0.293640</td>\n",
       "      <td>1.141325</td>\n",
       "      <td>0.507332</td>\n",
       "      <td>0.091987</td>\n",
       "      <td>...</td>\n",
       "      <td>0.323460</td>\n",
       "      <td>0.070750</td>\n",
       "      <td>0.000000</td>\n",
       "      <td>0.341598</td>\n",
       "      <td>0.699834</td>\n",
       "      <td>0.082518</td>\n",
       "      <td>1.392613</td>\n",
       "      <td>0.272152</td>\n",
       "      <td>0.812123</td>\n",
       "      <td>0.213665</td>\n",
       "    </tr>\n",
       "    <tr>\n",
       "      <th>3</th>\n",
       "      <td>/jupyter-nfs/home/myazdani/feature-weights/dat...</td>\n",
       "      <td>0.675330</td>\n",
       "      <td>0.876215</td>\n",
       "      <td>0.500106</td>\n",
       "      <td>0.000000</td>\n",
       "      <td>0.000000</td>\n",
       "      <td>0.412750</td>\n",
       "      <td>2.650468</td>\n",
       "      <td>0.003707</td>\n",
       "      <td>0.181360</td>\n",
       "      <td>...</td>\n",
       "      <td>0.923597</td>\n",
       "      <td>0.004428</td>\n",
       "      <td>0.135913</td>\n",
       "      <td>0.656992</td>\n",
       "      <td>0.273041</td>\n",
       "      <td>0.114000</td>\n",
       "      <td>1.062417</td>\n",
       "      <td>1.120458</td>\n",
       "      <td>0.737306</td>\n",
       "      <td>1.456055</td>\n",
       "    </tr>\n",
       "    <tr>\n",
       "      <th>4</th>\n",
       "      <td>/jupyter-nfs/home/myazdani/feature-weights/dat...</td>\n",
       "      <td>0.776831</td>\n",
       "      <td>0.279374</td>\n",
       "      <td>0.209714</td>\n",
       "      <td>0.000000</td>\n",
       "      <td>0.000000</td>\n",
       "      <td>0.322453</td>\n",
       "      <td>0.398188</td>\n",
       "      <td>0.017136</td>\n",
       "      <td>0.934270</td>\n",
       "      <td>...</td>\n",
       "      <td>0.232906</td>\n",
       "      <td>0.000000</td>\n",
       "      <td>0.064820</td>\n",
       "      <td>0.010663</td>\n",
       "      <td>0.336894</td>\n",
       "      <td>0.000000</td>\n",
       "      <td>0.718328</td>\n",
       "      <td>0.478428</td>\n",
       "      <td>0.638206</td>\n",
       "      <td>0.001408</td>\n",
       "    </tr>\n",
       "  </tbody>\n",
       "</table>\n",
       "<p>5 rows × 2049 columns</p>\n",
       "</div>"
      ],
      "text/plain": [
       "                                         image_paths   pool5.0   pool5.1  \\\n",
       "0  /jupyter-nfs/home/myazdani/feature-weights/dat...  1.469859  0.336714   \n",
       "1  /jupyter-nfs/home/myazdani/feature-weights/dat...  1.230319  0.520604   \n",
       "2  /jupyter-nfs/home/myazdani/feature-weights/dat...  1.067177  0.272474   \n",
       "3  /jupyter-nfs/home/myazdani/feature-weights/dat...  0.675330  0.876215   \n",
       "4  /jupyter-nfs/home/myazdani/feature-weights/dat...  0.776831  0.279374   \n",
       "\n",
       "    pool5.2   pool5.3   pool5.4   pool5.5   pool5.6   pool5.7   pool5.8  \\\n",
       "0  0.674561  0.000000  0.500678  0.000000  2.829296  0.000000  0.141947   \n",
       "1  0.692239  0.029806  0.028515  0.520848  1.756942  0.268782  1.119411   \n",
       "2  0.207357  0.370520  0.593995  0.293640  1.141325  0.507332  0.091987   \n",
       "3  0.500106  0.000000  0.000000  0.412750  2.650468  0.003707  0.181360   \n",
       "4  0.209714  0.000000  0.000000  0.322453  0.398188  0.017136  0.934270   \n",
       "\n",
       "      ...      pool5.2038  pool5.2039  pool5.2040  pool5.2041  pool5.2042  \\\n",
       "0     ...        2.043268    0.022872    0.561339    0.126630    0.074406   \n",
       "1     ...        1.737500    0.006702    0.309935    0.005580    0.381964   \n",
       "2     ...        0.323460    0.070750    0.000000    0.341598    0.699834   \n",
       "3     ...        0.923597    0.004428    0.135913    0.656992    0.273041   \n",
       "4     ...        0.232906    0.000000    0.064820    0.010663    0.336894   \n",
       "\n",
       "   pool5.2043  pool5.2044  pool5.2045  pool5.2046  pool5.2047  \n",
       "0    0.001252    0.389879    0.313520    0.227468    0.292726  \n",
       "1    0.065477    0.032521    1.598905    1.271583    0.708190  \n",
       "2    0.082518    1.392613    0.272152    0.812123    0.213665  \n",
       "3    0.114000    1.062417    1.120458    0.737306    1.456055  \n",
       "4    0.000000    0.718328    0.478428    0.638206    0.001408  \n",
       "\n",
       "[5 rows x 2049 columns]"
      ]
     },
     "execution_count": 5,
     "metadata": {},
     "output_type": "execute_result"
    }
   ],
   "source": [
    "image_features.head()"
   ]
  },
  {
   "cell_type": "code",
   "execution_count": 6,
   "metadata": {
    "collapsed": true
   },
   "outputs": [],
   "source": [
    "image_features.to_csv(write_path, index = False)"
   ]
  }
 ],
 "metadata": {
  "kernelspec": {
   "display_name": "Python 2",
   "language": "python",
   "name": "python2"
  },
  "language_info": {
   "codemirror_mode": {
    "name": "ipython",
    "version": 2
   },
   "file_extension": ".py",
   "mimetype": "text/x-python",
   "name": "python",
   "nbconvert_exporter": "python",
   "pygments_lexer": "ipython2",
   "version": "2.7.5"
  }
 },
 "nbformat": 4,
 "nbformat_minor": 0
}
